{
 "cells": [
  {
   "cell_type": "code",
   "execution_count": null,
   "id": "concrete-method",
   "metadata": {},
   "outputs": [],
   "source": [
    "nums = [2,7,11,15]\n",
    "target = 9\n",
    "dict={}\n",
    "for i in range(0,len(nums)):\n",
    "    if nums[i] in dict:\n",
    "        [dict[nums[i]],i]\n",
    "        print(dict)\n",
    "        \n",
    "    \n",
    "    else:\n",
    "        dict[target-nums[i]]=i\n",
    "        print(dict)\n",
    "        \n",
    "        "
   ]
  },
  {
   "cell_type": "code",
   "execution_count": null,
   "id": "intensive-building",
   "metadata": {},
   "outputs": [],
   "source": [
    "nums = [2,7,11,15]\n",
    "target=9\n",
    "for i in range(0,len(nums)):\n",
    "    dict=[nums[i]],i\n",
    "    print(dict)\n",
    "    "
   ]
  },
  {
   "cell_type": "code",
   "execution_count": null,
   "id": "desperate-federation",
   "metadata": {},
   "outputs": [],
   "source": [
    "dict={0:1,5:2,7:3}\n",
    "nums[i]=5\n",
    "print([dict[nums[i]],i])"
   ]
  },
  {
   "cell_type": "code",
   "execution_count": null,
   "id": "violent-catholic",
   "metadata": {},
   "outputs": [],
   "source": [
    "strs = [\"flower\",\"flow\",\"flight\"]\n",
    "for i in strs[1:]:\n",
    "    print(i)"
   ]
  },
  {
   "cell_type": "code",
   "execution_count": null,
   "id": "threatened-dynamics",
   "metadata": {},
   "outputs": [],
   "source": [
    "dig=[1,2,3]\n",
    "str1=\"\"\n",
    "for i in dig:\n",
    "    str1=str1+str(i)\n",
    "str1=int(str1)\n",
    "\n",
    "print(str1+1)"
   ]
  },
  {
   "cell_type": "code",
   "execution_count": null,
   "id": "secure-diversity",
   "metadata": {},
   "outputs": [],
   "source": [
    "s = \"a \"\n",
    "count=0\n",
    "for i in range(len(s)-1,-1,-1):\n",
    "    if s[i]!=\" \":\n",
    "        count+=1\n",
    "    \n",
    "    else:\n",
    "        break\n",
    "print(count)\n",
    "    "
   ]
  },
  {
   "cell_type": "code",
   "execution_count": null,
   "id": "atomic-footwear",
   "metadata": {},
   "outputs": [],
   "source": [
    "arr=[4,3,2,1]\n",
    "for i in range(0,len(arr)-1):\n",
    "    minpos=i\n",
    "    for j in range(i+1,len(arr)):\n",
    "        if arr[j]<arr[minpos]:\n",
    "            minpos=j\n",
    "    temp=arr[i]\n",
    "    arr[i]=arr[minpos]\n",
    "    arr[minpos]=temp\n",
    "\n",
    "print(arr)"
   ]
  },
  {
   "cell_type": "code",
   "execution_count": null,
   "id": "instructional-hydrogen",
   "metadata": {},
   "outputs": [],
   "source": [
    "#min_absolute diff\n",
    "result=[]\n",
    "min_diff=2147483647\n",
    "arr=sorted(arr)\n",
    "for i in range(1,len(arr)):\n",
    "    min_diff=min(arr[i]-arr[i-1],min_diff)\n",
    "\n",
    "\n",
    "for i in range(1,len(arr)):\n",
    "    if (arr[i]-arr[i-1]==min_diff):\n",
    "        result.append([arr[i-1],arr[i]])\n",
    "\n",
    "\n",
    "\n",
    "return result\n",
    "            "
   ]
  },
  {
   "cell_type": "code",
   "execution_count": null,
   "id": "acoustic-craps",
   "metadata": {},
   "outputs": [],
   "source": [
    "nums = [0,1,2,3,4]\n",
    "index = [0,1,2,2,4]\n",
    "target=[]\n",
    "len_nums=len(nums)\n",
    "while len_nums!=0:\n",
    "    for i in range(0,len(nums)):\n",
    "        for j in range(0,len(index)):\n",
    "            target.append(nums[j])\n",
    "\n",
    "print(target)\n",
    "\n",
    "        \n",
    "    "
   ]
  },
  {
   "cell_type": "code",
   "execution_count": null,
   "id": "enabling-anaheim",
   "metadata": {},
   "outputs": [],
   "source": [
    "# Maximum Average Subarray\n",
    "nums=[1,12,-5,-6,50,3]\n",
    "k=4\n",
    "maxSum=windowSum=sum(nums[:k])\n",
    "\n",
    "for i in range(k,len(nums)):\n",
    "    windowSum+=nums[i]-nums[i-k]\n",
    "    maxSum=max(maxSum,windowSum)\n",
    "print(maxSum)\n",
    "    "
   ]
  },
  {
   "cell_type": "code",
   "execution_count": null,
   "id": "previous-consent",
   "metadata": {},
   "outputs": [],
   "source": [
    "arr=[1,2,3,4]\n",
    "list1=[]\n",
    "count=0\n",
    "for i in range(0,len(arr)):\n",
    "    if arr[i] not in list1:\n",
    "        list1.append(arr[i])\n",
    "if len(arr)==len(list1):\n",
    "    print(\"No duplicate\")\n",
    "else:\n",
    "    print(\"Duplicate\")"
   ]
  },
  {
   "cell_type": "code",
   "execution_count": null,
   "id": "collectible-subscriber",
   "metadata": {},
   "outputs": [],
   "source": [
    "s = \"A man, a plan, a canal: Panama\"\n",
    "s.split(\" \")\n",
    "rev=\"\"\n",
    "alpha=\"\"\n",
    "for ch in s:\n",
    "    if ch.isalnum():\n",
    "        alpha+=ch\n",
    "alpha=alpha.lower()\n",
    "print(alpha)\n",
    "\n",
    "\n",
    "if alpha==alpha[::-1]:\n",
    "    print(\"palindrome\")\n",
    "else:\n",
    "    print(\"Not pallindrome\")\n"
   ]
  },
  {
   "cell_type": "code",
   "execution_count": null,
   "id": "published-bookmark",
   "metadata": {},
   "outputs": [],
   "source": [
    "#Climbing Stairs\n",
    "path={1:1,2:2,3:3}\n",
    "n=5\n",
    "for i in range(4,n+1):\n",
    "    path[i]=path[i-1]+path[i-2] #last two dic value ko add kr nya path aa rha hai....5 ke liye for ex 3+2=5\n",
    "    #{1: 1, 2: 2, 3: 3, 4: 5, 5: 8}     \n",
    "    print(path)\n",
    "print(path[n]) #mtlb 5 key ya position pe value i.e 8"
   ]
  },
  {
   "cell_type": "code",
   "execution_count": null,
   "id": "dress-static",
   "metadata": {},
   "outputs": [],
   "source": [
    "#Climbing stairs using Fibonacci\n",
    "a=0\n",
    "b=1\n",
    "n=5\n",
    "for i in range(0,n):\n",
    "    curr=a+b\n",
    "    a=b\n",
    "    b=curr\n",
    "print(b) #or curr both will give same ans"
   ]
  },
  {
   "cell_type": "code",
   "execution_count": null,
   "id": "distinct-recognition",
   "metadata": {},
   "outputs": [],
   "source": [
    "numbers = [-1,0] \n",
    "target = -1\n",
    "list1=[]\n",
    "for  i in range(0,len(numbers)-1):\n",
    "    for j in range(i+1,len(numbers)):\n",
    "        if numbers[i]+numbers[j]==target:\n",
    "            list1.append(i+1)\n",
    "            list1.append(j+1)\n",
    "            \n",
    "print(list1)\n",
    "            "
   ]
  },
  {
   "cell_type": "code",
   "execution_count": null,
   "id": "higher-chess",
   "metadata": {},
   "outputs": [],
   "source": [
    "dic={}\n",
    "dic[7]=0+1\n",
    "print(dic)\n",
    "if 6 in dic:\n",
    "    print(\"yes\")\n",
    "else:\n",
    "    print(\"no\")\n",
    "print(dic[7])"
   ]
  },
  {
   "cell_type": "code",
   "execution_count": null,
   "id": "horizontal-distributor",
   "metadata": {},
   "outputs": [],
   "source": [
    "#two sums\n",
    "nums= [2,7,11,15]\n",
    "target=9\n",
    "def twoSum(nums,target):\n",
    "    for i in range(0,len(nums)):\n",
    "        if nums[i] in dic:\n",
    "            return [dic[nums[i]],i+1]\n",
    "\n",
    "        else:\n",
    "            dic[target-nums[i]]=i+1\n",
    "print(twoSum(nums,target))"
   ]
  },
  {
   "cell_type": "code",
   "execution_count": null,
   "id": "derived-vacation",
   "metadata": {},
   "outputs": [],
   "source": [
    "nums = [3,2,3]\n",
    "dic={}\n",
    "for i in range(0,len(nums)):\n",
    "    if nums[i] in dic:\n",
    "        \n",
    "    else:\n",
    "        dic[nums[i]]"
   ]
  },
  {
   "cell_type": "code",
   "execution_count": null,
   "id": "welsh-outreach",
   "metadata": {},
   "outputs": [],
   "source": [
    "# Majority Element\n",
    "dic={}\n",
    "nums=[3,2,2]\n",
    "for i in range(0,len(nums)):\n",
    "    if nums[i] in dic:\n",
    "        dic[nums[i]]+=1\n",
    "    else:\n",
    "        dic[nums[i]]=1\n",
    "print(max(dic,key=dic.get))"
   ]
  },
  {
   "cell_type": "code",
   "execution_count": null,
   "id": "offshore-ukraine",
   "metadata": {},
   "outputs": [],
   "source": [
    "nums = [0,1,2]\n",
    "list1=[]\n",
    "count=0\n",
    "for i in range(0,len(nums)-1):\n",
    "    if (nums[i]+1)==nums[i+1]:\n",
    "        count+=1\n",
    "    else:\n",
    "        list1.append(count)\n",
    "        list1.append(i)\n",
    "        count=0\n",
    "print(list1)\n",
    "\n",
    "    \n",
    "    \n",
    "         \n",
    "        "
   ]
  },
  {
   "cell_type": "code",
   "execution_count": null,
   "id": "loving-assignment",
   "metadata": {},
   "outputs": [],
   "source": [
    "nums=[\"a\",\"b\",\"c\"]\n",
    "nums=nums[::-1]\n",
    "print(nums)"
   ]
  },
  {
   "cell_type": "code",
   "execution_count": null,
   "id": "hazardous-proposition",
   "metadata": {},
   "outputs": [],
   "source": [
    "s=[\"a\",\"b\",\"c\"]\n",
    "str=\"\"\n",
    "ans=[]\n",
    "for i in s:\n",
    "    str=i+str\n",
    "\n",
    "for i in str:\n",
    "    ans.append(i)\n",
    "print(ans)"
   ]
  },
  {
   "cell_type": "code",
   "execution_count": null,
   "id": "coral-dragon",
   "metadata": {},
   "outputs": [],
   "source": [
    "#sum of number till number is single digit\n",
    "def digitSum(num):                                                                                                         \n",
    "    while num<=9:\n",
    "        return num\n",
    "    \n",
    "    while num>9:\n",
    "        sum=0\n",
    "        \n",
    "        while num:\n",
    "            rev=num%10\n",
    "            sum+=rev\n",
    "            num=num//10\n",
    "        num=sum\n",
    "    return num\n",
    "\n",
    "print(digitSum(38))\n",
    "        \n",
    "    \n",
    "    "
   ]
  },
  {
   "cell_type": "code",
   "execution_count": null,
   "id": "structural-march",
   "metadata": {},
   "outputs": [],
   "source": [
    "n=1\n",
    "n=bin(n)\n",
    "print(n.replace(\"b\",\"\"))"
   ]
  },
  {
   "cell_type": "code",
   "execution_count": 7,
   "id": "asian-irrigation",
   "metadata": {},
   "outputs": [
    {
     "ename": "TypeError",
     "evalue": "'int' object is not callable",
     "output_type": "error",
     "traceback": [
      "\u001b[1;31m---------------------------------------------------------------------------\u001b[0m",
      "\u001b[1;31mTypeError\u001b[0m                                 Traceback (most recent call last)",
      "\u001b[1;32m<ipython-input-7-9c5b7b3c85e7>\u001b[0m in \u001b[0;36m<module>\u001b[1;34m\u001b[0m\n\u001b[0;32m      9\u001b[0m     \u001b[0mk\u001b[0m\u001b[1;33m=\u001b[0m\u001b[0mlen\u001b[0m\u001b[1;33m(\u001b[0m\u001b[0marr\u001b[0m\u001b[1;33m)\u001b[0m\u001b[1;33m-\u001b[0m\u001b[1;36m2\u001b[0m\u001b[1;33m\u001b[0m\u001b[1;33m\u001b[0m\u001b[0m\n\u001b[0;32m     10\u001b[0m     \u001b[1;32mfor\u001b[0m \u001b[0mi\u001b[0m \u001b[1;32min\u001b[0m \u001b[0mrange\u001b[0m\u001b[1;33m(\u001b[0m\u001b[1;36m0\u001b[0m\u001b[1;33m,\u001b[0m\u001b[0mlen\u001b[0m\u001b[1;33m(\u001b[0m\u001b[0marr\u001b[0m\u001b[1;33m)\u001b[0m\u001b[1;33m)\u001b[0m\u001b[1;33m:\u001b[0m\u001b[1;33m\u001b[0m\u001b[1;33m\u001b[0m\u001b[0m\n\u001b[1;32m---> 11\u001b[1;33m         \u001b[0msum2\u001b[0m\u001b[1;33m=\u001b[0m\u001b[0msum\u001b[0m\u001b[1;33m(\u001b[0m\u001b[0marr\u001b[0m\u001b[1;33m[\u001b[0m\u001b[1;36m0\u001b[0m\u001b[1;33m:\u001b[0m\u001b[1;36m3\u001b[0m\u001b[1;33m]\u001b[0m\u001b[1;33m)\u001b[0m\u001b[1;33m\u001b[0m\u001b[1;33m\u001b[0m\u001b[0m\n\u001b[0m\u001b[0;32m     12\u001b[0m         \u001b[0mprint\u001b[0m\u001b[1;33m(\u001b[0m\u001b[0msum2\u001b[0m\u001b[1;33m)\u001b[0m\u001b[1;33m\u001b[0m\u001b[1;33m\u001b[0m\u001b[0m\n\u001b[0;32m     13\u001b[0m \u001b[1;33m\u001b[0m\u001b[0m\n",
      "\u001b[1;31mTypeError\u001b[0m: 'int' object is not callable"
     ]
    }
   ],
   "source": [
    "#sum of all odd length subarray\n",
    "arr = [1,4,2,5,3]\n",
    "sum1=0\n",
    "sum2=0\n",
    "if len(arr)%2!=0:\n",
    "    for i in range(0,len(arr)):\n",
    "        sum1+=arr[i]\n",
    "    sum1=sum1*2\n",
    "    k=len(arr)-2\n",
    "    for i in range(0,len(arr)):\n",
    "        sum2=sum(arr[0:3])\n",
    "        print(sum2)\n",
    "    \n"
   ]
  },
  {
   "cell_type": "code",
   "execution_count": 11,
   "id": "altered-accounting",
   "metadata": {},
   "outputs": [
    {
     "name": "stdout",
     "output_type": "stream",
     "text": [
      "{'a': 1, 'b': 1, 'c': 1, 'd': 1}\n",
      "{'a': 0, 'b': 1, 'c': 1, 'd': 1}\n",
      "{'b': 1, 'c': 1, 'd': 1}\n"
     ]
    }
   ],
   "source": [
    "s=\"abcd\"\n",
    "dic={}\n",
    "for ch in s:\n",
    "    if ch in dic:\n",
    "        dic[ch]+=1\n",
    "    else:\n",
    "        dic[ch]=1\n",
    "print(dic)\n",
    "t=\"a\"\n",
    "for i in t:\n",
    "    if i in dic:\n",
    "        dic[i]-=1\n",
    "        print(dic)\n",
    "        \n",
    "        if dic[i]==0:\n",
    "            del dic[i]\n",
    "print(dic)"
   ]
  },
  {
   "cell_type": "code",
   "execution_count": null,
   "id": "subjective-insulin",
   "metadata": {},
   "outputs": [],
   "source": [
    "# Input: s = \"abcd\", t = \"abcde\"\n",
    "# Output: \"e\"\n",
    "# Explanation: 'e' is the letter that was added.\n",
    "s_count={}\n",
    "for ch in s:\n",
    "    if ch in s_count:\n",
    "        s_count[ch]+=1\n",
    "    else:\n",
    "        s_count[ch]=1\n",
    "\n",
    "for ch in t:\n",
    "    if ch in s_count:\n",
    "        s_count[ch]-=1\n",
    "        if s_count[ch]==0:\n",
    "            del s_count[ch]\n",
    "\n",
    "    else:\n",
    "        return ch"
   ]
  },
  {
   "cell_type": "code",
   "execution_count": 46,
   "id": "mechanical-steps",
   "metadata": {},
   "outputs": [
    {
     "name": "stdout",
     "output_type": "stream",
     "text": [
      "[1, 3]\n"
     ]
    }
   ],
   "source": [
    "arr=[1,2,3]\n",
    "# arr.pop(0)\n",
    "# print(arr)\n",
    "arr.remove(2)\n",
    "print(arr)"
   ]
  },
  {
   "cell_type": "code",
   "execution_count": 33,
   "id": "american-revision",
   "metadata": {},
   "outputs": [
    {
     "name": "stdout",
     "output_type": "stream",
     "text": [
      "false\n"
     ]
    }
   ],
   "source": [
    "# Is Subsequence\n",
    "s = \"acb\"\n",
    "t = \"ahbgdc\"\n",
    "res=[]\n",
    "for i in range(0,len(s)):\n",
    "    res.append(s[i])\n",
    "\n",
    "for ch in t:\n",
    "    if len(res)==0:\n",
    "        break\n",
    "    if ch==res[0]:\n",
    "        res.pop(0)\n",
    "if len(res)==0:\n",
    "    print(\"True\")\n",
    "else:\n",
    "    print(\"false\")\n"
   ]
  },
  {
   "cell_type": "code",
   "execution_count": 49,
   "id": "stuffed-newfoundland",
   "metadata": {},
   "outputs": [
    {
     "name": "stdout",
     "output_type": "stream",
     "text": [
      "3\n",
      "[1, 2]\n"
     ]
    }
   ],
   "source": [
    "nums=[1,2,3]\n",
    "if len(nums)==1:\n",
    "    print(nums[0])\n",
    "if len(nums)==2:\n",
    "    print(max(nums))\n",
    "\n",
    "else:\n",
    "    max1=nums[0]\n",
    "    for i in range(1,len(nums)):\n",
    "        if nums[i]>max1:\n",
    "            max1=nums[i]\n",
    "    print(max1)\n",
    "    nums.remove(max1)\n",
    "    print(nums)"
   ]
  },
  {
   "cell_type": "code",
   "execution_count": null,
   "id": "anticipated-housing",
   "metadata": {},
   "outputs": [],
   "source": []
  }
 ],
 "metadata": {
  "kernelspec": {
   "display_name": "Python 3",
   "language": "python",
   "name": "python3"
  },
  "language_info": {
   "codemirror_mode": {
    "name": "ipython",
    "version": 3
   },
   "file_extension": ".py",
   "mimetype": "text/x-python",
   "name": "python",
   "nbconvert_exporter": "python",
   "pygments_lexer": "ipython3",
   "version": "3.9.2"
  }
 },
 "nbformat": 4,
 "nbformat_minor": 5
}
