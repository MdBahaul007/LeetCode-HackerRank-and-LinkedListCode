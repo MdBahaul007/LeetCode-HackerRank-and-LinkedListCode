{
 "cells": [
  {
   "cell_type": "code",
   "execution_count": null,
   "id": "concrete-method",
   "metadata": {},
   "outputs": [],
   "source": [
    "nums = [2,7,11,15]\n",
    "target = 9\n",
    "dict={}\n",
    "for i in range(0,len(nums)):\n",
    "    if nums[i] in dict:\n",
    "        [dict[nums[i]],i]\n",
    "        print(dict)\n",
    "        \n",
    "    \n",
    "    else:\n",
    "        dict[target-nums[i]]=i\n",
    "        print(dict)\n",
    "        \n",
    "        "
   ]
  },
  {
   "cell_type": "code",
   "execution_count": null,
   "id": "intensive-building",
   "metadata": {},
   "outputs": [],
   "source": [
    "nums = [2,7,11,15]\n",
    "target=9\n",
    "for i in range(0,len(nums)):\n",
    "    dict=[nums[i]],i\n",
    "    print(dict)\n",
    "    "
   ]
  },
  {
   "cell_type": "code",
   "execution_count": null,
   "id": "desperate-federation",
   "metadata": {},
   "outputs": [],
   "source": [
    "dict={0:1,5:2,7:3}\n",
    "nums[i]=5\n",
    "print([dict[nums[i]],i])"
   ]
  },
  {
   "cell_type": "code",
   "execution_count": null,
   "id": "violent-catholic",
   "metadata": {},
   "outputs": [],
   "source": [
    "strs = [\"flower\",\"flow\",\"flight\"]\n",
    "for i in strs[1:]:\n",
    "    print(i)"
   ]
  },
  {
   "cell_type": "code",
   "execution_count": null,
   "id": "threatened-dynamics",
   "metadata": {},
   "outputs": [],
   "source": [
    "dig=[1,2,3]\n",
    "str1=\"\"\n",
    "for i in dig:\n",
    "    str1=str1+str(i)\n",
    "str1=int(str1)\n",
    "\n",
    "print(str1+1)"
   ]
  },
  {
   "cell_type": "code",
   "execution_count": null,
   "id": "secure-diversity",
   "metadata": {},
   "outputs": [],
   "source": [
    "s = \"a \"\n",
    "count=0\n",
    "for i in range(len(s)-1,-1,-1):\n",
    "    if s[i]!=\" \":\n",
    "        count+=1\n",
    "    \n",
    "    else:\n",
    "        break\n",
    "print(count)\n",
    "    "
   ]
  },
  {
   "cell_type": "code",
   "execution_count": null,
   "id": "atomic-footwear",
   "metadata": {},
   "outputs": [],
   "source": [
    "arr=[4,3,2,1]\n",
    "for i in range(0,len(arr)-1):\n",
    "    minpos=i\n",
    "    for j in range(i+1,len(arr)):\n",
    "        if arr[j]<arr[minpos]:\n",
    "            minpos=j\n",
    "    temp=arr[i]\n",
    "    arr[i]=arr[minpos]\n",
    "    arr[minpos]=temp\n",
    "\n",
    "print(arr)"
   ]
  },
  {
   "cell_type": "code",
   "execution_count": null,
   "id": "instructional-hydrogen",
   "metadata": {},
   "outputs": [],
   "source": [
    "#min_absolute diff\n",
    "result=[]\n",
    "min_diff=2147483647\n",
    "arr=sorted(arr)\n",
    "for i in range(1,len(arr)):\n",
    "    min_diff=min(arr[i]-arr[i-1],min_diff)\n",
    "\n",
    "\n",
    "for i in range(1,len(arr)):\n",
    "    if (arr[i]-arr[i-1]==min_diff):\n",
    "        result.append([arr[i-1],arr[i]])\n",
    "\n",
    "\n",
    "\n",
    "return result\n",
    "            "
   ]
  },
  {
   "cell_type": "code",
   "execution_count": null,
   "id": "acoustic-craps",
   "metadata": {},
   "outputs": [],
   "source": [
    "nums = [0,1,2,3,4]\n",
    "index = [0,1,2,2,4]\n",
    "target=[]\n",
    "len_nums=len(nums)\n",
    "while len_nums!=0:\n",
    "    for i in range(0,len(nums)):\n",
    "        for j in range(0,len(index)):\n",
    "            target.append(nums[j])\n",
    "\n",
    "print(target)\n",
    "\n",
    "        \n",
    "    "
   ]
  },
  {
   "cell_type": "code",
   "execution_count": null,
   "id": "enabling-anaheim",
   "metadata": {},
   "outputs": [],
   "source": [
    "# Maximum Average Subarray\n",
    "nums=[1,12,-5,-6,50,3]\n",
    "k=4\n",
    "maxSum=windowSum=sum(nums[:k])\n",
    "\n",
    "for i in range(k,len(nums)):\n",
    "    windowSum+=nums[i]-nums[i-k]\n",
    "    maxSum=max(maxSum,windowSum)\n",
    "print(maxSum)\n",
    "    "
   ]
  },
  {
   "cell_type": "code",
   "execution_count": null,
   "id": "previous-consent",
   "metadata": {},
   "outputs": [],
   "source": [
    "arr=[1,2,3,4]\n",
    "list1=[]\n",
    "count=0\n",
    "for i in range(0,len(arr)):\n",
    "    if arr[i] not in list1:\n",
    "        list1.append(arr[i])\n",
    "if len(arr)==len(list1):\n",
    "    print(\"No duplicate\")\n",
    "else:\n",
    "    print(\"Duplicate\")"
   ]
  },
  {
   "cell_type": "code",
   "execution_count": null,
   "id": "collectible-subscriber",
   "metadata": {},
   "outputs": [],
   "source": [
    "s = \"A man, a plan, a canal: Panama\"\n",
    "s.split(\" \")\n",
    "rev=\"\"\n",
    "alpha=\"\"\n",
    "for ch in s:\n",
    "    if ch.isalnum():\n",
    "        alpha+=ch\n",
    "alpha=alpha.lower()\n",
    "print(alpha)\n",
    "\n",
    "\n",
    "if alpha==alpha[::-1]:\n",
    "    print(\"palindrome\")\n",
    "else:\n",
    "    print(\"Not pallindrome\")\n"
   ]
  },
  {
   "cell_type": "code",
   "execution_count": null,
   "id": "published-bookmark",
   "metadata": {},
   "outputs": [],
   "source": [
    "#Climbing Stairs\n",
    "path={1:1,2:2,3:3}\n",
    "n=5\n",
    "for i in range(4,n+1):\n",
    "    path[i]=path[i-1]+path[i-2] #last two dic value ko add kr nya path aa rha hai....5 ke liye for ex 3+2=5\n",
    "    #{1: 1, 2: 2, 3: 3, 4: 5, 5: 8}     \n",
    "    print(path)\n",
    "print(path[n]) #mtlb 5 key ya position pe value i.e 8"
   ]
  },
  {
   "cell_type": "code",
   "execution_count": null,
   "id": "dress-static",
   "metadata": {},
   "outputs": [],
   "source": [
    "#Climbing stairs using Fibonacci\n",
    "a=0\n",
    "b=1\n",
    "n=5\n",
    "for i in range(0,n):\n",
    "    curr=a+b\n",
    "    a=b\n",
    "    b=curr\n",
    "print(b) #or curr both will give same ans"
   ]
  },
  {
   "cell_type": "code",
   "execution_count": null,
   "id": "distinct-recognition",
   "metadata": {},
   "outputs": [],
   "source": [
    "numbers = [-1,0] \n",
    "target = -1\n",
    "list1=[]\n",
    "for  i in range(0,len(numbers)-1):\n",
    "    for j in range(i+1,len(numbers)):\n",
    "        if numbers[i]+numbers[j]==target:\n",
    "            list1.append(i+1)\n",
    "            list1.append(j+1)\n",
    "            \n",
    "print(list1)\n",
    "            "
   ]
  },
  {
   "cell_type": "code",
   "execution_count": 17,
   "id": "higher-chess",
   "metadata": {},
   "outputs": [
    {
     "name": "stdout",
     "output_type": "stream",
     "text": [
      "{7: 1}\n",
      "no\n",
      "1\n"
     ]
    }
   ],
   "source": [
    "dic={}\n",
    "dic[7]=0+1\n",
    "print(dic)\n",
    "if 6 in dic:\n",
    "    print(\"yes\")\n",
    "else:\n",
    "    print(\"no\")\n",
    "print(dic[7])"
   ]
  },
  {
   "cell_type": "code",
   "execution_count": null,
   "id": "horizontal-distributor",
   "metadata": {},
   "outputs": [],
   "source": [
    "#two sums\n",
    "nums= [2,7,11,15]\n",
    "target=9\n",
    "def twoSum(nums,target):\n",
    "    for i in range(0,len(nums)):\n",
    "        if nums[i] in dic:\n",
    "            return [dic[nums[i]],i+1]\n",
    "\n",
    "        else:\n",
    "            dic[target-nums[i]]=i+1\n",
    "print(twoSum(nums,target))"
   ]
  },
  {
   "cell_type": "code",
   "execution_count": null,
   "id": "derived-vacation",
   "metadata": {},
   "outputs": [],
   "source": [
    "nums = [3,2,3]\n",
    "dic={}\n",
    "for i in range(0,len(nums)):\n",
    "    if nums[i] in dic:\n",
    "        \n",
    "    else:\n",
    "        dic[nums[i]]"
   ]
  },
  {
   "cell_type": "code",
   "execution_count": null,
   "id": "welsh-outreach",
   "metadata": {},
   "outputs": [],
   "source": [
    "# Majority Element\n",
    "dic={}\n",
    "nums=[3,2,2]\n",
    "for i in range(0,len(nums)):\n",
    "    if nums[i] in dic:\n",
    "        dic[nums[i]]+=1\n",
    "    else:\n",
    "        dic[nums[i]]=1\n",
    "print(max(dic,keys=dic.get))"
   ]
  },
  {
   "cell_type": "code",
   "execution_count": null,
   "id": "offshore-ukraine",
   "metadata": {},
   "outputs": [],
   "source": [
    "nums = [0,1,2]\n",
    "list1=[]\n",
    "count=0\n",
    "for i in range(0,len(nums)-1):\n",
    "    if (nums[i]+1)==nums[i+1]:\n",
    "        count+=1\n",
    "    else:\n",
    "        list1.append(count)\n",
    "        list1.append(i)\n",
    "        count=0\n",
    "print(list1)\n",
    "\n",
    "    \n",
    "    \n",
    "         \n",
    "        "
   ]
  },
  {
   "cell_type": "code",
   "execution_count": null,
   "id": "loving-assignment",
   "metadata": {},
   "outputs": [],
   "source": [
    "nums=[\"a\",\"b\",\"c\"]\n",
    "nums=nums[::-1]\n",
    "print(nums)"
   ]
  },
  {
   "cell_type": "code",
   "execution_count": null,
   "id": "hazardous-proposition",
   "metadata": {},
   "outputs": [],
   "source": [
    "s=[\"a\",\"b\",\"c\"]\n",
    "str=\"\"\n",
    "ans=[]\n",
    "for i in s:\n",
    "    str=i+str\n",
    "\n",
    "for i in str:\n",
    "    ans.append(i)\n",
    "print(ans)"
   ]
  },
  {
   "cell_type": "code",
   "execution_count": null,
   "id": "coral-dragon",
   "metadata": {},
   "outputs": [],
   "source": [
    "#sum of number till number is single digit\n",
    "def digitSum(num):                                                                                                         \n",
    "    while num<=9:\n",
    "        return num\n",
    "    \n",
    "    while num>9:\n",
    "        sum=0\n",
    "        \n",
    "        while num:\n",
    "            rev=num%10\n",
    "            sum+=rev\n",
    "            num=num//10\n",
    "        num=sum\n",
    "    return num\n",
    "\n",
    "print(digitSum(38))\n",
    "        \n",
    "    \n",
    "    "
   ]
  },
  {
   "cell_type": "code",
   "execution_count": null,
   "id": "structural-march",
   "metadata": {},
   "outputs": [],
   "source": [
    "n=1\n",
    "n=bin(n)\n",
    "print(n.replace(\"b\",\"\"))"
   ]
  },
  {
   "cell_type": "code",
   "execution_count": null,
   "id": "asian-irrigation",
   "metadata": {},
   "outputs": [],
   "source": [
    "#sum of all odd length subarray\n",
    "arr = [1,4,2,5,3]\n",
    "sum1=0\n",
    "sum2=0\n",
    "if len(arr)%2!=0:\n",
    "    for i in range(0,len(arr)):\n",
    "        sum1+=arr[i]\n",
    "    sum1=sum1*2\n",
    "    k=len(arr)-2\n",
    "    for i in range(0,len(arr)):\n",
    "        sum2=sum(arr[0:3])\n",
    "        print(sum2)\n",
    "    \n"
   ]
  },
  {
   "cell_type": "code",
   "execution_count": null,
   "id": "altered-accounting",
   "metadata": {},
   "outputs": [],
   "source": [
    "s=\"abcd\"\n",
    "dic={}\n",
    "for ch in s:\n",
    "    if ch in dic:\n",
    "        dic[ch]+=1\n",
    "    else:\n",
    "        dic[ch]=1\n",
    "print(dic)\n",
    "t=\"a\"\n",
    "for i in t:\n",
    "    if i in dic:\n",
    "        dic[i]-=1\n",
    "        print(dic)\n",
    "        \n",
    "        if dic[i]==0:\n",
    "            del dic[i]\n",
    "print(dic)"
   ]
  },
  {
   "cell_type": "code",
   "execution_count": null,
   "id": "subjective-insulin",
   "metadata": {},
   "outputs": [],
   "source": [
    "# Input: s = \"abcd\", t = \"abcde\"\n",
    "# Output: \"e\"\n",
    "# Explanation: 'e' is the letter that was added.\n",
    "#FIND THE DIFFRENCE\n",
    "s_count={}\n",
    "for ch in s:\n",
    "    if ch in s_count:\n",
    "        s_count[ch]+=1\n",
    "    else:\n",
    "        s_count[ch]=1\n",
    "\n",
    "for ch in t:\n",
    "    if ch in s_count:\n",
    "        s_count[ch]-=1\n",
    "        if s_count[ch]==0:\n",
    "            del s_count[ch]\n",
    "\n",
    "    else:\n",
    "        return ch"
   ]
  },
  {
   "cell_type": "code",
   "execution_count": null,
   "id": "mechanical-steps",
   "metadata": {},
   "outputs": [],
   "source": [
    "arr=[1,2,3]\n",
    "arr.pop(0)\n",
    "# print(arr)\n",
    "# arr.remove(2)\n",
    "print(arr)"
   ]
  },
  {
   "cell_type": "code",
   "execution_count": null,
   "id": "american-revision",
   "metadata": {},
   "outputs": [],
   "source": [
    "# Is Subsequence\n",
    "s = \"acb\"\n",
    "t = \"ahbgdc\"\n",
    "res=[]\n",
    "for i in range(0,len(s)):\n",
    "    res.append(s[i])\n",
    "print(res)\n",
    "\n",
    "for ch in t:\n",
    "    if len(res)==0:\n",
    "        break\n",
    "    if ch==res[0]:\n",
    "        res.pop(0)\n",
    "if len(res)==0:\n",
    "    print(\"True\")\n",
    "else:\n",
    "    print(\"false\")\n"
   ]
  },
  {
   "cell_type": "code",
   "execution_count": null,
   "id": "stuffed-newfoundland",
   "metadata": {},
   "outputs": [],
   "source": [
    "nums=[1,2,3]\n",
    "if len(nums)==1:\n",
    "    print(nums[0])\n",
    "if len(nums)==2:\n",
    "    print(max(nums))\n",
    "\n",
    "else:\n",
    "    max1=nums[0]\n",
    "    for i in range(1,len(nums)):\n",
    "        if nums[i]>max1:\n",
    "            max1=nums[i]\n",
    "    print(max1)\n",
    "    nums.remove(max1)\n",
    "    print(nums)"
   ]
  },
  {
   "cell_type": "code",
   "execution_count": null,
   "id": "anticipated-housing",
   "metadata": {},
   "outputs": [],
   "source": [
    "s=\"abcdefg\"\n",
    "k=2\n",
    "s3=\"\"\n",
    "s1=s[k:]\n",
    "print(s1)\n",
    "s2=s[0:k]\n",
    "print(s2)\n",
    "for i in s2:\n",
    "    s3=i+s3\n",
    "print(s3)\n",
    "print(s3+s1)"
   ]
  },
  {
   "cell_type": "code",
   "execution_count": null,
   "id": "intended-excitement",
   "metadata": {},
   "outputs": [],
   "source": [
    "jewel=\"aAA\"\n",
    "stone=\"aaAAbbb\"\n",
    "count=0\n",
    "for i in jewel:\n",
    "    for j in stone:\n",
    "        if i==j:\n",
    "            count+=1\n",
    "print(count)\n",
    "    "
   ]
  },
  {
   "cell_type": "code",
   "execution_count": null,
   "id": "plain-sewing",
   "metadata": {},
   "outputs": [],
   "source": [
    "#to put zero at end\n",
    "nums = [0,1,0,3,12]\n",
    "list1=[]\n",
    "list2=[]\n",
    "for i in range(0,len(nums)):\n",
    "    if nums[i]!=0:\n",
    "        list1.append(nums[i])\n",
    "    else:\n",
    "        list2.append(nums[i])\n",
    "print(list1+list2)"
   ]
  },
  {
   "cell_type": "code",
   "execution_count": null,
   "id": "removed-gossip",
   "metadata": {},
   "outputs": [],
   "source": [
    "#to put zero at end\n",
    "nums = [0,1,0,3,12]\n",
    "for i in range(0,len(nums)):\n",
    "    if nums[i]==0:\n",
    "        nums.remove(0)\n",
    "        nums.append(0)\n",
    "print(nums)\n",
    "        "
   ]
  },
  {
   "cell_type": "code",
   "execution_count": null,
   "id": "moved-stationery",
   "metadata": {},
   "outputs": [],
   "source": [
    "nums = [0,1,0,3,12]\n",
    "j=0\n",
    "\n",
    "for n in nums:\n",
    "    if n!=0:\n",
    "        nums[j]=n\n",
    "        j+=1\n",
    "#         print(nums)\n",
    "for i in range(j,len(nums)):\n",
    "    nums[i]=0\n",
    "    print(nums)"
   ]
  },
  {
   "cell_type": "code",
   "execution_count": null,
   "id": "affiliated-director",
   "metadata": {},
   "outputs": [],
   "source": [
    "#Last Stone Weight\n",
    "stones=[2,7,4,1,8,1]\n",
    "diff=0\n",
    "count=0\n",
    "while len(stones)>1:\n",
    "    for i in range(0,len(stones)-1):\n",
    "        minpos=i\n",
    "        for j in range(i+1,len(stones)):\n",
    "            if stones[j]<stones[minpos]:\n",
    "                minpos=j\n",
    "        temp=stones[i]\n",
    "        stones[i]=stones[minpos]\n",
    "        stones[minpos]=temp\n",
    "\n",
    "\n",
    "    diff=stones[-1]-stones[-2]\n",
    "    stones.remove(stones[-2])\n",
    "    stones[-1]=diff\n",
    "\n",
    "print(stones[0])\n",
    "\n",
    "\n",
    "\n"
   ]
  },
  {
   "cell_type": "code",
   "execution_count": null,
   "id": "postal-economics",
   "metadata": {},
   "outputs": [],
   "source": [
    "#Check If Two String Arrays are Equivalent\n",
    "word1 = [\"abc\", \"d\", \"defg\"]\n",
    "word2 = [\"abcddefg\"]\n",
    "str1=\"\"\n",
    "str2=\"\"\n",
    "\n",
    "for i in word1:\n",
    "    str1+=i\n",
    "# print(str1)\n",
    "for i in word2:\n",
    "    str2+=i\n",
    "print(str2)\n",
    "\n",
    "if str1==str2:\n",
    "    print(\"Yes\")\n",
    "else:\n",
    "    print(\"No\")"
   ]
  },
  {
   "cell_type": "code",
   "execution_count": null,
   "id": "judicial-society",
   "metadata": {},
   "outputs": [],
   "source": [
    "name=\"mohd bahaul mustafa\"\n",
    "name=name.split(\" \")\n",
    "print(name)\n",
    "new=\"\"\n",
    "for i in name:\n",
    "    new+=i[::-1]+' '\n",
    "    \n",
    "print(new)\n",
    "    "
   ]
  },
  {
   "cell_type": "code",
   "execution_count": null,
   "id": "registered-spotlight",
   "metadata": {},
   "outputs": [],
   "source": [
    "s = \"Hello how are you Contestant\"\n",
    "k = 4\n",
    "str_res=\" \"\n",
    "s=s.split(\" \")\n",
    "res=s[0:k]\n",
    "# for i in res:\n",
    "#     str_res+=i+' '\n",
    "# print(str_res)\n",
    "print(str_res.join(res))\n",
    "    \n",
    "\n",
    "    "
   ]
  },
  {
   "cell_type": "code",
   "execution_count": null,
   "id": "furnished-counter",
   "metadata": {},
   "outputs": [],
   "source": [
    "#kids With the Greatest Number of Candies\n",
    "candies = [2,3,5,1,3]\n",
    "extraCandies = 3\n",
    "res=[]\n",
    "max_candy=candies[0]\n",
    "for i in range(1,len(candies)):\n",
    "    if candies[i]>max_candy:\n",
    "        max_candy=candies[i]\n",
    "for i in range(0,len(candies)):\n",
    "    if candies[i]+extraCandies>=max_candy:\n",
    "        res.append(True)\n",
    "    else:\n",
    "        res.append(False)\n",
    "print(res)"
   ]
  },
  {
   "cell_type": "code",
   "execution_count": null,
   "id": "distinct-forth",
   "metadata": {},
   "outputs": [],
   "source": [
    "#Shuffle the Array\n",
    "# Input: nums = [2,5,1,3,4,7], n = 3\n",
    "# Output: [2,3,5,4,1,7] \n",
    "nums = [2,5,1,3,4,7]\n",
    "n = 3\n",
    "res=[]\n",
    "for i in range(0,len(nums)-n):\n",
    "    res.append(nums[i])\n",
    "    res.append(nums[i+n])\n",
    "print(res)\n",
    "    "
   ]
  },
  {
   "cell_type": "code",
   "execution_count": null,
   "id": "accessory-organic",
   "metadata": {},
   "outputs": [],
   "source": [
    "#Running Sum of 1d Array\n",
    "# nums = [1,2,3,4]\n",
    "# Output: [1,3,6,10]\n",
    "# Explanation: Running sum is obtained as follows: [1, 1+2, 1+2+3, 1+2+3+4].\n",
    "nums = [1,2,3,4]\n",
    "sum1=0\n",
    "res=[]\n",
    "for i in range(0,len(nums)):\n",
    "    sum1+=nums[i]\n",
    "    res.append(sum1)\n",
    "print(res)\n",
    "    \n",
    "    \n"
   ]
  },
  {
   "cell_type": "code",
   "execution_count": null,
   "id": "addressed-transcription",
   "metadata": {},
   "outputs": [],
   "source": [
    "# #Number of Good Pairs\n",
    "# Input: nums = [1,2,3,1,1,3]\n",
    "# Output: 4\n",
    "# Explanation: There are 4 good pairs (0,3), (0,4), (3,4), (2,5) 0-indexed.\n",
    "nums = [1,2,3,1,1,3]\n",
    "count=0\n",
    "for i in range(0,len(nums)):\n",
    "    for j in range(i+1,len(nums)):\n",
    "        if nums[i]==nums[j]:\n",
    "            count+=1\n",
    "print(count)\n",
    "            "
   ]
  },
  {
   "cell_type": "code",
   "execution_count": null,
   "id": "contemporary-franklin",
   "metadata": {},
   "outputs": [],
   "source": [
    "# How Many Numbers Are Smaller Than the Current Number\n",
    "# Input: nums = [8,1,2,2,3]\n",
    "# Output: [4,0,1,1,3]\n",
    "arr = [8,1,2,2,3]\n",
    "n=len(arr)\n",
    "k=0\n",
    "count=0\n",
    "while k<n:\n",
    "    \n",
    "    \n",
    "\n",
    "\n",
    "    \n",
    "            \n",
    "            \n",
    "    "
   ]
  },
  {
   "cell_type": "code",
   "execution_count": null,
   "id": "reliable-cinema",
   "metadata": {},
   "outputs": [],
   "source": [
    "address = \"1.1.1.1\"\n",
    "str0=address\n",
    "str1=\"\"\n",
    "for i in address:\n",
    "    if i==\".\":\n",
    "        str1=address.replace(\".\",\"[.]\")\n",
    "print(str1)\n",
    "    \n",
    "        "
   ]
  },
  {
   "cell_type": "code",
   "execution_count": null,
   "id": "gross-retirement",
   "metadata": {},
   "outputs": [],
   "source": [
    "#Word Pattern\n",
    "pattern = \"jquery\"\n",
    "s = \"jquery\"\n",
    "patt_arr=[]\n",
    "index_patt=[]\n",
    "index_s=[]\n",
    "for i in pattern:\n",
    "    patt_arr+=i\n",
    "s=s.split()\n",
    "# print(s)\n",
    "\n",
    "for i in range(0,len(patt_arr)-1):\n",
    "    for j in range(i+1,len(patt_arr)):\n",
    "        if (patt_arr[i]==patt_arr[j]):\n",
    "            index_patt.append(i)\n",
    "            index_patt.append(j)\n",
    "        \n",
    "# print(index_patt)\n",
    "for i in range(0,len(s)-1):\n",
    "    for j in range(i+1,len(s)):\n",
    "        if(s[i]==s[j]):\n",
    "            index_s.append(i)\n",
    "            index_s.append(j)\n",
    "# print(index_s)\n",
    "if index_patt==index_s and (len(index_patt) and len(index_patt))!=0 :\n",
    "    print(\"Yes\")\n",
    "else:\n",
    "    print(\"NO\")\n",
    "    "
   ]
  },
  {
   "cell_type": "code",
   "execution_count": null,
   "id": "impossible-taxation",
   "metadata": {},
   "outputs": [],
   "source": [
    "# #Richest Customer Wealth\n",
    "# Input: accounts = [[1,2,3],[3,2,1]]\n",
    "# Output: 6\n",
    "# Explanation:\n",
    "# 1st customer has wealth = 1 + 2 + 3 = 6\n",
    "# 2nd customer has wealth = 3 + 2 + 1 = 6\n",
    "accounts = [[1,2,3],[3,2,1]]\n",
    "maxWealth=0\n",
    "totalWealth=0\n",
    "for i in range(0,len(accounts)):\n",
    "    totalWealth=sum(accounts[i])\n",
    "    maxWealth=max(totalWealth,maxWealth)\n",
    "print(totalWealth)"
   ]
  },
  {
   "cell_type": "code",
   "execution_count": null,
   "id": "central-animation",
   "metadata": {},
   "outputs": [],
   "source": [
    "nums=[8,1,2,2,3]\n",
    "count=0\n",
    "res=[]\n",
    "for i in range(0,len(nums)):\n",
    "    for j in range(0,len(nums)):\n",
    "        if(nums[i]>nums[j]):\n",
    "            count+=1\n",
    "    res.append(count)\n",
    "    count=0\n",
    "print(res)"
   ]
  },
  {
   "cell_type": "code",
   "execution_count": null,
   "id": "opposed-sending",
   "metadata": {},
   "outputs": [],
   "source": [
    "# Sort Array By Parity\n",
    "# input:[3,1,2,4]\n",
    "# nums = [3,1,2,4]\n",
    "# out=[2,4,1,3]\n",
    "even_list=[]\n",
    "odd_list=[]\n",
    "for i in range(0,len(nums)):\n",
    "    if nums[i]%2==0:\n",
    "        even_list.append(nums[i])\n",
    "    else:b\n",
    "        odd_list.append(nums[i])\n",
    "print(even_list+odd_list)\n"
   ]
  },
  {
   "cell_type": "code",
   "execution_count": null,
   "id": "british-catholic",
   "metadata": {},
   "outputs": [],
   "source": [
    "indices = [4,5,6,7,0,2,1,3]\n",
    "print(indices.index(1))#o/p 6 as 1 is on 6th position"
   ]
  },
  {
   "cell_type": "code",
   "execution_count": null,
   "id": "formed-universe",
   "metadata": {},
   "outputs": [],
   "source": [
    "# Input: s = \"codeleet\", indices = [4,5,6,7,0,2,1,3]\n",
    "# Output: \"leetcode\"\n",
    "s = \"codeleet\"\n",
    "indices = [4,5,6,7,0,2,1,3]\n",
    "ans=\"\"\n",
    "for i in range(0,len(indices)):\n",
    "    ans+=s[indices.index(i)]\n",
    "print(ans)"
   ]
  },
  {
   "cell_type": "code",
   "execution_count": null,
   "id": "transparent-husband",
   "metadata": {},
   "outputs": [],
   "source": [
    "indices = [4,5,6,7,0,2,1,3]\n",
    "for i,j in enumerate(indices):\n",
    "    print(i,j)"
   ]
  },
  {
   "cell_type": "code",
   "execution_count": null,
   "id": "sexual-representation",
   "metadata": {},
   "outputs": [],
   "source": [
    "s = \"codeleet\"\n",
    "indices = [4,5,6,7,0,2,1,3]\n",
    "ans=\"\"\n",
    "d={}\n",
    "for i,j in enumerate(indices):\n",
    "    d[j]=s[i]\n",
    "print(d)\n",
    "for i in range(len(d)):\n",
    "    ans+=d[i]\n",
    "print(ans)"
   ]
  },
  {
   "cell_type": "code",
   "execution_count": null,
   "id": "bigger-denmark",
   "metadata": {},
   "outputs": [],
   "source": [
    "#decimal to binary\n",
    "def d_to_b(num):\n",
    "    if num==0:\n",
    "        return \n",
    "    else:\n",
    "        d_to_b(num//2)\n",
    "        print(num%2,end=\"\")\n",
    "d_to_b(10)\n",
    "\n",
    "        "
   ]
  },
  {
   "cell_type": "code",
   "execution_count": null,
   "id": "valuable-purple",
   "metadata": {},
   "outputs": [],
   "source": [
    "# Decompress Run-Length Encoded List\n",
    "# Input: nums = [1,2,3,4]\n",
    "# Output: [2,4,4,4]\n",
    "# Explanation: The first pair [1,2] means we have freq = 1 and val = 2 so we generate the array [2].\n",
    "# The second pair [3,4] means we have freq = 3 and val = 4 so we generate [4,4,4].\n",
    "nums=[1,2,3,4]\n",
    "out=[]\n",
    "for i in range(0,len(nums),2):\n",
    "    multi=[nums[i+1]]*nums[i]\n",
    "    out=out+multi\n",
    "print(out)\n",
    "    "
   ]
  },
  {
   "cell_type": "code",
   "execution_count": null,
   "id": "corresponding-lender",
   "metadata": {},
   "outputs": [],
   "source": [
    "# Goal Parser Interpretation\n",
    "# Input: command = \"G()(al)\"\n",
    "# Output: \"Goal\"\n",
    "# G -> G ,() -> o , (al) -> al\n",
    "s = \"G()(al)\"\n",
    "res=\"\"\n",
    "for i in range(0,len(s)):\n",
    "    if s[i]==\"G\":\n",
    "        res+=\"G\"\n",
    "    elif s[i]==\"(\":\n",
    "        if s[i+1]==\")\":\n",
    "            res+=\"o\"\n",
    "        else:\n",
    "            res+=\"al\"\n",
    "print(res)\n",
    "    \n"
   ]
  },
  {
   "cell_type": "code",
   "execution_count": null,
   "id": "environmental-warning",
   "metadata": {},
   "outputs": [],
   "source": [
    "# Check if the Sentence Is Pangram\n",
    "str1=\"thequickbrownfoxjumpsoverthelazydog\"\n",
    "alphabat=\"abcdefghijklmnopqrstuvwxyz\"\n",
    "count=0\n",
    "for char in alphabat:\n",
    "    if char not in str1:\n",
    "        count+=1\n",
    "if count>0:\n",
    "    print(\"sentence not panagram\")\n",
    "else:\n",
    "    print(\"sentence panagram\")\n"
   ]
  },
  {
   "cell_type": "code",
   "execution_count": null,
   "id": "liberal-triangle",
   "metadata": {},
   "outputs": [],
   "source": [
    "nums = [0,1,2,3,4]\n",
    "index = [0,1,2,2,1]\n",
    "target=[]\n",
    "for i in range(0,len(index)):\n",
    "    target.insert(index[i],nums[i])\n",
    "print(target)"
   ]
  },
  {
   "cell_type": "code",
   "execution_count": 46,
   "id": "gross-grenada",
   "metadata": {},
   "outputs": [
    {
     "name": "stdout",
     "output_type": "stream",
     "text": [
      "7\n"
     ]
    }
   ],
   "source": [
    "# allowed = \"ab\"\n",
    "# words = [\"ad\",\"bd\",\"aaab\",\"baa\",\"badab\"]\n",
    "# Input: allowed = \"ab\", words = [\"ad\",\"bd\",\"aaab\",\"baa\",\"badab\"]\n",
    "# Output: 2\n",
    "# Explanation: Strings \"aaab\" and \"baa\" are consistent since they only contain characters 'a' and 'b'.\n",
    "allowed = \"abc\"\n",
    "words = [\"a\",\"b\",\"c\",\"ab\",\"ac\",\"bc\",\"abc\"]\n",
    "count=0\n",
    "res=[]\n",
    "for i in range(0,len(words)):\n",
    "    for j in words[i]:\n",
    "        if j in allowed:\n",
    "            count=0\n",
    "        else:\n",
    "            count+=1\n",
    "            break\n",
    "    if count==0:\n",
    "        res.append(words[i])\n",
    "\n",
    "print(len(res))\n",
    "        \n",
    "            \n",
    "            \n",
    "        \n",
    "\n",
    "    "
   ]
  },
  {
   "cell_type": "code",
   "execution_count": 47,
   "id": "racial-commodity",
   "metadata": {},
   "outputs": [
    {
     "name": "stdout",
     "output_type": "stream",
     "text": [
      "34\n"
     ]
    }
   ],
   "source": [
    "# Maximum Product Difference Between Two Pairs\n",
    "# Input: nums = [5,6,2,7,4]\n",
    "# Output: 34\n",
    "# Explanation: We can choose indices 1 and 3 for the first pair (6, 7) and indices 2 and 4 for the second pair (2, 4).\n",
    "# The product difference is (6 * 7) - (2 * 4) = 34.\n",
    "\n",
    "arr = [5,6,2,7,4]\n",
    "for i in range(0,len(arr)-1):\n",
    "    minpos=i\n",
    "    for j in range(i+1,len(arr)):\n",
    "        if arr[j]<arr[minpos]:\n",
    "            minpos=j\n",
    "    temp=arr[i]\n",
    "    arr[i]=arr[minpos]\n",
    "    arr[minpos]=temp\n",
    "n=len(arr)-1\n",
    "res=(arr[n]*arr[n-1])-(arr[0]*arr[1])\n",
    "print(res)"
   ]
  },
  {
   "cell_type": "code",
   "execution_count": null,
   "id": "multiple-friendly",
   "metadata": {},
   "outputs": [],
   "source": [
    "# Sorting the Sentence\n",
    "# out=\"This is a sentence\"\n",
    "\n",
    "s = \"is2 sentence4 This1 a3\"\n",
    "numbers=\"1234567890\"\n",
    "index=[]\n",
    "str1=\"\"\n",
    "str2=\" \"\n",
    "arr=[]\n",
    "for i in s:\n",
    "    if i in numbers:\n",
    "        index.append(i)\n",
    "    else:\n",
    "        str1+=i\n",
    "# print(index)\n",
    "# print(str1)\n",
    "str_arr=str1.split() #converting string to array\n",
    "print(str_arr)\n",
    "dic={}\n",
    "for i,j in enumerate(index):\n",
    "    dic[j]=str_arr[i]\n",
    "\n",
    "print(dic)\n",
    "for i in sorted(dic):\n",
    "    arr.append(dic[i])\n",
    "print(arr)\n",
    "print(str2.join(arr))\n"
   ]
  },
  {
   "cell_type": "code",
   "execution_count": null,
   "id": "awful-cornell",
   "metadata": {},
   "outputs": [],
   "source": [
    "#     print ((dic[i]), end =\" \")"
   ]
  },
  {
   "cell_type": "code",
   "execution_count": null,
   "id": "continental-firmware",
   "metadata": {},
   "outputs": [],
   "source": [
    "#insertion Sort\n",
    "arr=[5,4,10,1,6,2]\n",
    "for i in range(1,len(arr)):\n",
    "    temp=arr[i]\n",
    "    j=i-1\n",
    "    \n",
    "    while j>=0 and temp<arr[j]:\n",
    "        arr[j+1]=arr[j]\n",
    "        j-=1\n",
    "    \n",
    "    arr[j+1]=temp\n",
    "print(arr)"
   ]
  },
  {
   "cell_type": "code",
   "execution_count": null,
   "id": "vocal-waterproof",
   "metadata": {},
   "outputs": [],
   "source": [
    "# # Maximum Product of Three Numbers\n",
    "# Input :nums = [1,2,3]\n",
    "# Output: 6\n",
    "arr = [-100,-98,-1,2,3,4]\n",
    "for i in range(1,len(arr)):\n",
    "    temp=arr[i]\n",
    "    j=i-1\n",
    "    while j>=0 and temp<arr[j]:\n",
    "        arr[j+1]=arr[j]\n",
    "        j-=1\n",
    "    arr[j+1]=temp\n",
    "#if arr contain more than two negetive number than than product of two max -ve num and lat  number will yield max product\n",
    "res=max(arr[0]*arr[1]*arr[-1],arr[-1]*arr[-2]*arr[-3])\n",
    "print(res)"
   ]
  },
  {
   "cell_type": "code",
   "execution_count": null,
   "id": "thick-spending",
   "metadata": {},
   "outputs": [],
   "source": [
    "# Determine if String Halves Are Alike\n",
    "s = \"MerryChristmas\"\n",
    "vowel=\"AEIOUaeiou\"\n",
    "len_s=len(s)//2\n",
    "s1=s[:len_s]\n",
    "print(s1)\n",
    "s2=s[len_s:]\n",
    "print(s2)\n",
    "count1=0\n",
    "count2=0\n",
    "for i in s1:\n",
    "    if i in vowel:\n",
    "        count1+=1\n",
    "print(count1)\n",
    "for i in s2:\n",
    "    if i in vowel:\n",
    "        count2+=1\n",
    "print(count2)\n",
    "\n",
    "if count1==count2:\n",
    "    print(\"Yes\")\n",
    "else:\n",
    "    print(\"No\")"
   ]
  },
  {
   "cell_type": "code",
   "execution_count": null,
   "id": "hollow-dialogue",
   "metadata": {},
   "outputs": [],
   "source": [
    "#above using List Comprehension\n",
    "s = \"MerryChristmas\"\n",
    "vowel=[\"a\",\"e\",\"i\",\"o\",\"u\"]\n",
    "s=s.lower()\n",
    "half_s_len=len(s)//2\n",
    "s1=s[0:half_s_len]\n",
    "s2=s[half_s_len:]\n",
    "res1=[i for i in s1 if i in vowel]\n",
    "res2=[j for j in s2 if j in vowel]\n",
    "\n",
    "print(len(res1)==len(res2))"
   ]
  },
  {
   "cell_type": "code",
   "execution_count": null,
   "id": "commercial-headset",
   "metadata": {},
   "outputs": [],
   "source": [
    "# Find the Highest Altitude\n",
    "# Input: gain = [-5,1,5,0,-7]\n",
    "# Output: 1\n",
    "# Explanation: The altitudes are [0,-5,-4,1,1,-6]. The highest is 1.\n",
    "gain = [-5,1,5,0,-7]\n",
    "sum1=0\n",
    "res=[]\n",
    "for i in range(0,len(gain)):\n",
    "    sum1+=gain[i]\n",
    "    if sum1>=0:\n",
    "        res.append(sum1)\n",
    "if len(res)>0:\n",
    "    print(max(res))\n",
    "else:\n",
    "    print(\"zero\")"
   ]
  },
  {
   "cell_type": "code",
   "execution_count": null,
   "id": "otherwise-development",
   "metadata": {},
   "outputs": [],
   "source": [
    "profit=[7,6,4,3,1]\n",
    "max_profit=0\n",
    "diff=0\n",
    "for i in range(0,len(profit)-1):\n",
    "    for j in range(i+1,len(profit)):\n",
    "        diff=profit[j]-profit[i]\n",
    "        max_profit=max(max_profit,diff)\n",
    "print(max_profit)\n",
    "        \n",
    "        "
   ]
  },
  {
   "cell_type": "code",
   "execution_count": null,
   "id": "developmental-burning",
   "metadata": {},
   "outputs": [],
   "source": [
    "# Input: nums1 = [1,2,3,2,1], nums2 = [3,2,1,4,7]\n",
    "# Output: 3\n",
    "# Explanation: The repeated subarray with maximum length is [3,2,1].\n",
    "num1=[1,2,3,2,1]\n",
    "num2=[3,2,1,4,7]\n",
    "N=len(num1)\n",
    "M=len(num2)\n",
    "out=0\n",
    "dp=[[0 for _ in range(M+1)] for _ in range(N+1)]\n",
    "print(dp)\n",
    "for i in range(1,N+1):\n",
    "    for j in range(1,M+1):\n",
    "        if num1[i-1]==num2[j-1]:\n",
    "            dp[i][j]=1+dp[i-1][j-1]\n",
    "        out=max(out,dp[i][j])\n",
    "print(out)\n",
    "            "
   ]
  },
  {
   "cell_type": "code",
   "execution_count": 24,
   "id": "sexual-opera",
   "metadata": {},
   "outputs": [
    {
     "name": "stdout",
     "output_type": "stream",
     "text": [
      "0\n",
      "1\n",
      "1\n",
      "2\n",
      "3\n",
      "5\n",
      "8\n"
     ]
    }
   ],
   "source": [
    "# # Fibonbacci Series\n",
    "# a=0\n",
    "# b=1\n",
    "# n=10\n",
    "# for i in range(2,n+1):\n",
    "#     c=a+b\n",
    "#     print(c)\n",
    "#     a=b\n",
    "#     b=c\n",
    "a=0\n",
    "b=1\n",
    "print(a)\n",
    "print(b)\n",
    "n=5\n",
    "for i in range(0,n):\n",
    "    curr=a+b\n",
    "    print(curr)\n",
    "    a=b\n",
    "    b=curr\n",
    "# print(b) #or curr both will give same ans"
   ]
  },
  {
   "cell_type": "code",
   "execution_count": 21,
   "id": "abroad-footage",
   "metadata": {},
   "outputs": [
    {
     "name": "stdout",
     "output_type": "stream",
     "text": [
      "34\n"
     ]
    }
   ],
   "source": [
    "def Fibonacci(n):\n",
    "    if n<0:\n",
    "        print(\"Incorrect input\")\n",
    "    # First Fibonacci number is 0\n",
    "    elif n==0:\n",
    "        return 0\n",
    "    # Second Fibonacci number is 1\n",
    "    elif n==1:\n",
    "        return 1\n",
    "    else:\n",
    "        return Fibonacci(n-1)+Fibonacci(n-2)\n",
    " \n",
    " \n",
    "print(Fibonacci(9))"
   ]
  },
  {
   "cell_type": "code",
   "execution_count": null,
   "id": "decreased-maintenance",
   "metadata": {},
   "outputs": [],
   "source": [
    "#addition program using class\n",
    "class test:\n",
    "    def add(self,a,b):\n",
    "        sum1=a+b\n",
    "        return sum1\n",
    "a=10\n",
    "b=27\n",
    "obj=test()\n",
    "\n",
    "s=obj.add(a,b)\n",
    "print(s)"
   ]
  },
  {
   "cell_type": "code",
   "execution_count": null,
   "id": "marine-methodology",
   "metadata": {},
   "outputs": [],
   "source": [
    "#3Sum\n",
    "# nums = [-1,0,1,2,-1,-4]\n",
    "#we will sort the input aaray and than we check again same number is not repaeting so that combination does not repeates\n",
    "#suppose [-3,-3,1,2,3,4] 1st combination will be [-3,1,2]=0 now agin when we come on 2nd -3 our combination will repeat this we dont want.\n",
    "#so will check if previous no is not repeating\n",
    "#and sorting will help to eleminate calculation after -ve number are over and rest all numbers are +ve so there combination will not be posiible\n",
    "nums =[-1,0,1,2,-1,-4]\n",
    "res=[]\n",
    "length_nums=len(nums)\n",
    "nums.sort()\n",
    "for i in range(0,length_nums-2):\n",
    "    if i!=0 and nums[i]==nums[i-1]:\n",
    "        continue\n",
    "    \n",
    "    left=i+1 #bcz before left we will have target\n",
    "    right=length_nums-1\n",
    "    target=0-nums[i]\n",
    "    while left<right:\n",
    "        threeSum=nums[left]+nums[right]\n",
    "        if target==threeSum:\n",
    "            res.append([nums[i],nums[left],nums[right]])\n",
    "            \n",
    "            while left<right and nums[left]==nums[left+1]:\n",
    "                left+=1\n",
    "            \n",
    "            while left<right and nums[right]==nums[right-1]:\n",
    "                right-=1\n",
    "        \n",
    "            left+=1\n",
    "            right-=1\n",
    "            \n",
    "        elif target<threeSum:\n",
    "            right-=1\n",
    "        \n",
    "        elif target>threeSum:\n",
    "            left+=1\n",
    "print(res)\n",
    "            \n",
    "    \n",
    "\n",
    "                \n",
    "                "
   ]
  },
  {
   "cell_type": "code",
   "execution_count": null,
   "id": "synthetic-society",
   "metadata": {},
   "outputs": [],
   "source": [
    "# Input: image = [[1,1,0],[1,0,1],[0,0,0]]\n",
    "# Output: [[1,0,0],[0,1,0],[1,1,1]]\n",
    "# Explanation: First reverse each row: [[0,1,1],[1,0,1],[0,0,0]].\n",
    "# Then, invert the image: [[1,0,0],[0,1,0],[1,1,1]]\n",
    "\n",
    "#using two pointer approch [1,0,1,0,1,1,0]\n",
    "#                           a           b\n",
    "#we only change if value at both pointer are same for ex if value at a=1 and b=1 so will change to a=0 and b=0\n",
    "#by this approch we can can skip reverse bits step\n",
    "\n",
    "\n",
    "nums=[[1,1,0],[1,0,1],[0,0,0]]\n",
    "for i in range(0,len(nums)):\n",
    "    low=0\n",
    "    high=len(nums[i])-1\n",
    "    while low<=high:\n",
    "        if nums[i][low]==nums[i][high]:\n",
    "            nums[i][low]=1-nums[i][low] #if value is 0 it will chage to 1 and if value is 1 it will become 0\n",
    "            nums[i][high]=nums[i][low] #making value of pointer b also same as that of a pointer\n",
    "        low+=1\n",
    "        high-=1\n",
    "print(nums)\n",
    "    \n",
    "    "
   ]
  },
  {
   "cell_type": "code",
   "execution_count": 2,
   "id": "tribal-artwork",
   "metadata": {},
   "outputs": [
    {
     "name": "stdout",
     "output_type": "stream",
     "text": [
      "hello\n"
     ]
    }
   ],
   "source": [
    "#String to lower case \n",
    "#a=97,b=98c=99....z=122\n",
    "#A=65,B=66,C=67...Z=90\n",
    "#a-A=32\n",
    "#so for lower case a=A+32\n",
    "# x = chr(97) o/p a\n",
    "# x = ord(\"a\") 97\n",
    "# Input: s = \"Hello\"\n",
    "# Output: \"hello\"\n",
    "s=\"Hello\"\n",
    "str1=\"\"\n",
    "for char in s:\n",
    "    if ord(char)>=65 and ord(char)<=90:\n",
    "        str1+= chr(ord(char)+32)\n",
    "    else:\n",
    "        str1+=char\n",
    "print(str1)\n",
    "        \n",
    "    \n",
    "    \n"
   ]
  },
  {
   "cell_type": "code",
   "execution_count": 9,
   "id": "latter-software",
   "metadata": {},
   "outputs": [
    {
     "name": "stdout",
     "output_type": "stream",
     "text": [
      "1\n"
     ]
    }
   ],
   "source": [
    "# Find Numbers with Even Number of Digits\n",
    "# Input: nums = [555,901,482,1771]\n",
    "# Output: 1 \n",
    "# Explanation: \n",
    "# Only 1771 contains an even number of digits.\n",
    "nums = [555,901,482,1771]\n",
    "count=0\n",
    "str1=\"\"\n",
    "for i in range(0,len(nums)):\n",
    "    str1=str(nums[i])\n",
    "    if len(str1)%2==0:\n",
    "        count+=1\n",
    "print(count)\n",
    "    "
   ]
  },
  {
   "cell_type": "code",
   "execution_count": 30,
   "id": "dirty-clothing",
   "metadata": {},
   "outputs": [
    {
     "name": "stdout",
     "output_type": "stream",
     "text": [
      "9\n"
     ]
    }
   ],
   "source": [
    "# Input: nums = [1,4,3,2]\n",
    "# Output: 4\n",
    "# Explanation: All possible pairings (ignoring the ordering of elements) are:\n",
    "# 1. (1, 4), (2, 3) -> min(1, 4) + min(2, 3) = 1 + 2 = 3\n",
    "# 2. (1, 3), (2, 4) -> min(1, 3) + min(2, 4) = 1 + 2 = 3\n",
    "# 3. (1, 2), (3, 4) -> min(1, 2) + min(3, 4) = 1 + 3 = 4\n",
    "# So the maximum possible sum is 4.\n",
    "nums = [6,2,6,5,1,2]\n",
    "sum1=0\n",
    "nums.sort()\n",
    "for i in range(0,len(nums)-1,2):\n",
    "    sum1+=nums[i]\n",
    "print(sum1)\n",
    "    "
   ]
  },
  {
   "cell_type": "code",
   "execution_count": 5,
   "id": "fifteen-manual",
   "metadata": {},
   "outputs": [
    {
     "name": "stdout",
     "output_type": "stream",
     "text": [
      "25\n"
     ]
    }
   ],
   "source": [
    "# Input: mat = [[1,2,3],\n",
    "#               [4,5,6],\n",
    "#               [7,8,9]]\n",
    "# Output: 25\n",
    "# Explanation: Diagonals sum: 1 + 5 + 9 + 3 + 7 = 25\n",
    "# Notice that element mat[1][1] = 5 is counted only once.\n",
    "mat = [[1,2,3],\n",
    "       [4,5,6],\n",
    "        [7,8,9]]\n",
    "\n",
    "n=len(mat)\n",
    "res=0\n",
    "for i in range(0,len(mat)):\n",
    "    res+=mat[i][i]\n",
    "    res+=mat[i][n-i-1]\n",
    "\n",
    "if n%2==0:\n",
    "    print(res)\n",
    "else:\n",
    "    print(res-mat[n//2][n//2])\n"
   ]
  },
  {
   "cell_type": "code",
   "execution_count": 49,
   "id": "juvenile-favor",
   "metadata": {},
   "outputs": [
    {
     "name": "stdout",
     "output_type": "stream",
     "text": [
      "jkab\n"
     ]
    }
   ],
   "source": [
    "# Decrypt String from Alphabet to Integer Mapping\n",
    "# Input: s = \"10#11#12\"\n",
    "# Output: \"jkab\"\n",
    "# Explanation: \"j\" -> \"10#\" , \"k\" -> \"11#\" , \"a\" -> \"1\" , \"b\" -> \"2\".\n",
    "# s = \"10#11#12\"\n",
    "# s = \"1326#\"\n",
    "def change(s):\n",
    "    i=0\n",
    "    while i<len(s):\n",
    "        if i+2<len(s) and s[i+2]==\"#\":\n",
    "            res.append(alpha(s[i:i+2]))\n",
    "            i+=3\n",
    "        \n",
    "        else:\n",
    "            res.append(alpha(s[i]))\n",
    "            i+=1\n",
    "            \n",
    "    return \"\".join(res)\n",
    "            \n",
    "\n",
    "def alpha(num):\n",
    "    return chr(int(num)+ord('a')-1)\n",
    "\n",
    "s=\"10#11#12\"\n",
    "print(change(s))"
   ]
  },
  {
   "cell_type": "code",
   "execution_count": 26,
   "id": "mediterranean-pierce",
   "metadata": {},
   "outputs": [
    {
     "name": "stdout",
     "output_type": "stream",
     "text": [
      "{1: 'a', 2: 'b', 3: 'c', 4: 'd', 5: 'e', 6: 'f', 7: 'g', 8: 'h', 9: 'i', 10: 'j', 11: 'k', 12: 'l', 13: 'm', 14: 'n', 15: 'o', 16: 'p', 17: 'q', 18: 'r', 19: 's', 20: 't', 21: 'u', 22: 'v', 23: 'w', 24: 'x', 25: 'y', 26: 'z'}\n"
     ]
    }
   ],
   "source": [
    "s={i:chr(i+96) for i in range(1,27)}\n",
    "print(s)\n",
    "    "
   ]
  },
  {
   "cell_type": "code",
   "execution_count": 5,
   "id": "pleased-final",
   "metadata": {},
   "outputs": [
    {
     "name": "stdout",
     "output_type": "stream",
     "text": [
      "[[0], [0], [0], [0]]\n"
     ]
    },
    {
     "ename": "IndexError",
     "evalue": "list assignment index out of range",
     "output_type": "error",
     "traceback": [
      "\u001b[1;31m---------------------------------------------------------------------------\u001b[0m",
      "\u001b[1;31mIndexError\u001b[0m                                Traceback (most recent call last)",
      "\u001b[1;32m<ipython-input-5-2246840dbc39>\u001b[0m in \u001b[0;36m<module>\u001b[1;34m\u001b[0m\n\u001b[0;32m     11\u001b[0m \u001b[1;32mfor\u001b[0m \u001b[0mi\u001b[0m \u001b[1;32min\u001b[0m \u001b[0mrange\u001b[0m\u001b[1;33m(\u001b[0m\u001b[1;36m0\u001b[0m\u001b[1;33m,\u001b[0m\u001b[0mlen\u001b[0m\u001b[1;33m(\u001b[0m\u001b[0mtarget\u001b[0m\u001b[1;33m)\u001b[0m\u001b[1;33m)\u001b[0m\u001b[1;33m:\u001b[0m\u001b[1;33m\u001b[0m\u001b[1;33m\u001b[0m\u001b[0m\n\u001b[0;32m     12\u001b[0m     \u001b[0mres\u001b[0m\u001b[1;33m[\u001b[0m\u001b[0mtarget\u001b[0m\u001b[1;33m[\u001b[0m\u001b[0mi\u001b[0m\u001b[1;33m]\u001b[0m\u001b[1;33m]\u001b[0m\u001b[1;33m=\u001b[0m\u001b[1;36m1\u001b[0m\u001b[1;33m\u001b[0m\u001b[1;33m\u001b[0m\u001b[0m\n\u001b[1;32m---> 13\u001b[1;33m     \u001b[0mres\u001b[0m\u001b[1;33m[\u001b[0m\u001b[0marr\u001b[0m\u001b[1;33m[\u001b[0m\u001b[0mi\u001b[0m\u001b[1;33m]\u001b[0m\u001b[1;33m]\u001b[0m\u001b[1;33m=\u001b[0m\u001b[1;36m1\u001b[0m\u001b[1;33m\u001b[0m\u001b[1;33m\u001b[0m\u001b[0m\n\u001b[0m\u001b[0;32m     14\u001b[0m \u001b[1;33m\u001b[0m\u001b[0m\n\u001b[0;32m     15\u001b[0m \u001b[1;32mfor\u001b[0m \u001b[0mi\u001b[0m \u001b[1;32min\u001b[0m \u001b[0mres\u001b[0m\u001b[1;33m:\u001b[0m\u001b[1;33m\u001b[0m\u001b[1;33m\u001b[0m\u001b[0m\n",
      "\u001b[1;31mIndexError\u001b[0m: list assignment index out of range"
     ]
    }
   ],
   "source": [
    "# Make Two Arrays Equal by Reversing Sub-arrays\n",
    "# Input: target = [1,2,3,4], arr = [2,4,1,3]\n",
    "# Output: true\n",
    "#if we rev arr it will become equal to target so output is true\n",
    "target = [1,2,3,4]\n",
    "tar_len=len(target)\n",
    "res= [[0] for i in range(1,len(target)+1)]\n",
    "print(res)\n",
    "\n",
    "arr = [2,4,1,3]\n",
    "for i in range(0,len(target)):\n",
    "    res[target[i]]=1\n",
    "    res[arr[i]]=1\n",
    "\n",
    "for i in res:\n",
    "    if int(i)>0:\n",
    "        print(\"False\")\n",
    "\n",
    "print(\"True\")"
   ]
  },
  {
   "cell_type": "code",
   "execution_count": 114,
   "id": "parallel-stephen",
   "metadata": {},
   "outputs": [
    {
     "name": "stdout",
     "output_type": "stream",
     "text": [
      "[0, 1, 3, 4, 10]\n"
     ]
    }
   ],
   "source": [
    "# Input: nums = [-4,-1,0,3,10]\n",
    "# Output: [0,1,9,16,100]\n",
    "# Explanation: After squaring, the array becomes [16,1,0,9,100].\n",
    "# After sorting, it becomes [0,1,9,16,100].\n",
    "#Using two pointer approch(applicable when array is sorted).\n",
    "res=[0]*len(nums)\n",
    "nums = [-4,-1,0,3,10]\n",
    "l=0\n",
    "r=len(nums)-1\n",
    "while l<=r:\n",
    "    left=abs(nums[l])\n",
    "    right=abs(nums[r])\n",
    "\n",
    "    if left>right:\n",
    "        res[r-l]=left\n",
    "        l+=1\n",
    "\n",
    "    else:\n",
    "        res[r-l]=right\n",
    "        r-=1\n",
    "\n",
    "print(res)"
   ]
  },
  {
   "cell_type": "code",
   "execution_count": 115,
   "id": "compatible-transsexual",
   "metadata": {},
   "outputs": [
    {
     "name": "stdout",
     "output_type": "stream",
     "text": [
      "12\n"
     ]
    }
   ],
   "source": [
    "# Maximum Product of Two Elements in an Array\n",
    "# Input: nums = [3,4,5,2]\n",
    "# Output: 12 \n",
    "# Explanation: If you choose the indices i=1 and j=2 (indexed from 0), \n",
    "# you will get the maximum value, that is, (nums[1]-1)*(nums[2]-1) = (4-1)*(5-1) = 3*4 = 12. \n",
    "res=[]\n",
    "nums = [3,4,5,2]\n",
    "for i in range(0,len(nums)-1):\n",
    "    for j in range(i+1,len(nums)):\n",
    "        multi=((nums[i])-1)*((nums[j])-1)\n",
    "        res.append(multi)\n",
    "\n",
    "print(max(res))\n"
   ]
  },
  {
   "cell_type": "code",
   "execution_count": 124,
   "id": "french-flush",
   "metadata": {},
   "outputs": [
    {
     "name": "stdout",
     "output_type": "stream",
     "text": [
      "Sao Paulo\n"
     ]
    }
   ],
   "source": [
    "# Destination City\n",
    "# Input: paths = [[\"London\",\"New York\"],[\"New York\",\"Lima\"],[\"Lima\",\"Sao Paulo\"]]\n",
    "# Output: \"Sao Paulo\" \n",
    "# Explanation: Starting at \"London\" city you will reach \"Sao Paulo\" city which is the destination city. \n",
    "# Your trip consist of: \"London\" -> \"New York\" -> \"Lima\" -> \"Sao Paulo\".\n",
    "res=[]\n",
    "paths = [[\"London\",\"New York\"],[\"New York\",\"Lima\"],[\"Lima\",\"Sao Paulo\"]]\n",
    "for item in paths:\n",
    "    res.append(item[0])\n",
    "for item in paths:\n",
    "    if item[1] not in res:\n",
    "        print(item[1])"
   ]
  },
  {
   "cell_type": "code",
   "execution_count": 125,
   "id": "accredited-mongolia",
   "metadata": {},
   "outputs": [
    {
     "name": "stdout",
     "output_type": "stream",
     "text": [
      "1\n"
     ]
    }
   ],
   "source": [
    "# Number of Students Doing Homework at a Given Time\n",
    "# Input: startTime = [1,2,3], endTime = [3,2,7], queryTime = 4\n",
    "# Output: 1\n",
    "# Explanation: We have 3 students where:\n",
    "# The first student started doing homework at time 1 and finished at time 3 and wasn't doing anything at time 4.\n",
    "# The second student started doing homework at time 2 and finished at time 2 and also wasn't doing anything at time 4.\n",
    "# The third student started doing homework at time 3 and finished at time 7 and was the only student doing homework at time 4.\n",
    "startTime = [1,2,3]\n",
    "endTime = [3,2,7]\n",
    "queryTime = 4\n",
    "count=0\n",
    "i=0\n",
    "while i<len(startTime):\n",
    "    if startTime[i]<=endTime[i] and endTime[i]>=queryTime and queryTime>startTime[i]:\n",
    "        count+=1\n",
    "        i+=1\n",
    "    else:\n",
    "        i+=1\n",
    "print(count)"
   ]
  },
  {
   "cell_type": "code",
   "execution_count": 126,
   "id": "capable-semiconductor",
   "metadata": {},
   "outputs": [
    {
     "name": "stdout",
     "output_type": "stream",
     "text": [
      "False\n"
     ]
    }
   ],
   "source": [
    "# Determine Color of a Chessboard Square\n",
    "# Input: coordinates = \"a1\"\n",
    "# Output: false\n",
    "# Explanation: From the chessboard above, the square with coordinates \"a1\" is black, so return false.\n",
    "coordinates = \"a1\"\n",
    "print(ord(coordinates[0])%2 != int(coordinates[1])%2)"
   ]
  },
  {
   "cell_type": "code",
   "execution_count": 129,
   "id": "through-baptist",
   "metadata": {},
   "outputs": [
    {
     "name": "stdout",
     "output_type": "stream",
     "text": [
      "{0: 1, 1: 2, 2: 3, 3: 4}\n",
      "2\n"
     ]
    }
   ],
   "source": [
    "nums=[1,2,3,4]\n",
    "k = 3\n",
    "dic={}\n",
    "count=0\n",
    "for i,j in enumerate(nums):\n",
    "    if nums[i] in dic:\n",
    "        count+=1\n",
    "    else:\n",
    "        dic[i]=j\n",
    "print(dic)\n",
    "print(dic[1])"
   ]
  },
  {
   "cell_type": "code",
   "execution_count": 153,
   "id": "comparable-joyce",
   "metadata": {},
   "outputs": [
    {
     "name": "stdout",
     "output_type": "stream",
     "text": [
      "2\n",
      "12\n",
      "[]\n"
     ]
    }
   ],
   "source": [
    "arr=[12]\n",
    "res=[]\n",
    "print(arr[0]%10)\n",
    "for i in arr:\n",
    "    sum1=str(i)\n",
    "    print(sum1)\n",
    "    if len(sum1)>1:\n",
    "        sum1=int(sum1)%10\n",
    "    else:\n",
    "        res.append(sum1)\n",
    "print(res)\n",
    "        \n",
    "    "
   ]
  },
  {
   "cell_type": "code",
   "execution_count": 20,
   "id": "different-green",
   "metadata": {},
   "outputs": [
    {
     "name": "stdout",
     "output_type": "stream",
     "text": [
      "[3, 2, 1, 0, 1, 0, 0, 1, 2, 2, 1, 0]\n"
     ]
    }
   ],
   "source": [
    "#Shortest Distance to a Character\n",
    "# Input: s = \"loveleetcode\", c = \"e\"\n",
    "# Output: [3,2,1,0,1,0,0,1,2,2,1,0]\n",
    "# Explanation: The character 'e' appears at indices 3, 5, 6, and 11 (0-indexed).\n",
    "# The closest occurrence of 'e' for index 0 is at index 3, so the distance is abs(0 - 3) = 3.\n",
    "# The closest occurrence of 'e' for index 1 is at index 3, so the distance is abs(1 - 3) = 3.\n",
    "s = \"loveleetcode\"\n",
    "c = \"e\"\n",
    "n=len(s)\n",
    "c_pos=-n\n",
    "out_arr=[0]*n\n",
    "for i in range(0,len(s)):\n",
    "    if s[i]==c:\n",
    "        c_pos=i\n",
    "    \n",
    "    out_arr[i]=abs(i-c_pos)\n",
    "    \n",
    "for i in range(n-1,-1,-1):\n",
    "    if s[i]==c:\n",
    "        c_pos=i\n",
    "    \n",
    "    out_arr[i]=min(abs(i-c_pos),out_arr[i])\n",
    "    \n",
    "print(out_arr)\n",
    "    \n",
    "  "
   ]
  },
  {
   "cell_type": "code",
   "execution_count": 5,
   "id": "certain-confidence",
   "metadata": {},
   "outputs": [
    {
     "name": "stdout",
     "output_type": "stream",
     "text": [
      "[4, 5, 2, 7]\n"
     ]
    }
   ],
   "source": [
    "# Sort array by parity\n",
    "# Sort the array so that whenever nums[i] is odd, i is odd, and whenever nums[i] is even, i is even.\n",
    "nums = [4,2,5,7]\n",
    "num_len=len(nums)\n",
    "i=0\n",
    "j=1\n",
    "while i<len(nums) and j<len(nums):\n",
    "    if nums[i]%2==0:\n",
    "        i+=2\n",
    "    elif nums[j]%2==1:\n",
    "        j+=2\n",
    "    \n",
    "    else:\n",
    "        nums[i],nums[j]=nums[j],nums[i]\n",
    "        i+=2\n",
    "        j+=2\n",
    "\n",
    "print(nums)\n",
    "        \n"
   ]
  },
  {
   "cell_type": "code",
   "execution_count": 2,
   "id": "bearing-intent",
   "metadata": {},
   "outputs": [
    {
     "name": "stdout",
     "output_type": "stream",
     "text": [
      "['l', 'l', 'e']\n"
     ]
    }
   ],
   "source": [
    "# Find Common Characters\n",
    "# Input: [\"bella\",\"label\",\"roller\"]\n",
    "# Output: [\"e\",\"l\",\"l\"]\n",
    "words=[\"bella\",\"label\",\"roller\"]\n",
    "check=list(words[0])\n",
    "        \n",
    "for i in range(0,len(words)):\n",
    "    newCheck=[]\n",
    "    for j in words[i]:\n",
    "        if j in check:\n",
    "            newCheck.append(j)\n",
    "            check.remove(j)\n",
    "\n",
    "    check=newCheck\n",
    "\n",
    "print(check)"
   ]
  },
  {
   "cell_type": "code",
   "execution_count": 45,
   "id": "heard-abraham",
   "metadata": {},
   "outputs": [
    {
     "name": "stdout",
     "output_type": "stream",
     "text": [
      "['a', 'b', 'b', 'c']\n",
      "['a', 'c']\n"
     ]
    }
   ],
   "source": [
    "s=\"abbc\"\n",
    "ll=list(s)\n",
    "print(ll)\n",
    "ll.remove(\"b\")\n",
    "ll.remove(\"b\")\n",
    "print(ll)"
   ]
  },
  {
   "cell_type": "code",
   "execution_count": 12,
   "id": "checked-position",
   "metadata": {},
   "outputs": [],
   "source": [
    "#Inordr traversal Left, Root, Right \n",
    "# Range Sum of BST\n",
    "# Input: root = [10,5,15,3,7,null,18], low = 7, high = 15\n",
    "# Output: 32\n",
    "# Explanation: Nodes 7, 10, and 15 are in the range [7, 15]. 7 + 10 + 15 = 32.\n",
    "root = [10,5,15,3,7,18]\n",
    "low = 7\n",
    "high = 15\n",
    "class TreeNode:\n",
    "    def __init__(self, val=0, left=None, right=None):\n",
    "        self.val = val\n",
    "        self.left = left\n",
    "        self.right = right\n",
    "class Solution:\n",
    "    def rangeSumBST(self, root: TreeNode, low: int, high: int) -> int:\n",
    "        \n",
    "        self.sum=0\n",
    "        def inorder(root):\n",
    "            if root!=None:\n",
    "                #if root value is greater than low value we will traverse right.\n",
    "                if root.val>low:\n",
    "                    inorder(root.left)\n",
    "                \n",
    "                #if value falls between the range for ex 7-15 we will add it \n",
    "                if low<=root.val<=high:\n",
    "                    self.sum+=root.val\n",
    "                \n",
    "                #if root val is less than the high then will traverse right\n",
    "                if root.val<high:\n",
    "                    inorder(root.right)\n",
    "\n",
    "        inorder(root)\n",
    "\n",
    "        print(self.sum)\n",
    "\n",
    "\n",
    "\n",
    "\n",
    "\n",
    "        "
   ]
  },
  {
   "cell_type": "code",
   "execution_count": 16,
   "id": "special-heater",
   "metadata": {},
   "outputs": [
    {
     "name": "stdout",
     "output_type": "stream",
     "text": [
      "[1, 2, 3]\n"
     ]
    }
   ],
   "source": [
    "arr=[1,2,2,3]\n",
    "arr.remove(2)\n",
    "print(arr)"
   ]
  },
  {
   "cell_type": "code",
   "execution_count": 19,
   "id": "metropolitan-mouth",
   "metadata": {},
   "outputs": [
    {
     "name": "stdout",
     "output_type": "stream",
     "text": [
      "['MOHD', 'BAHAUL', 'MUSTAFA']\n",
      "['DHOM', 'LUAHAB', 'AFATSUM']\n"
     ]
    }
   ],
   "source": [
    "S=\"MOHD BAHAUL MUSTAFA\"\n",
    "arr=S.split(\" \")\n",
    "print(arr)\n",
    "res=[]\n",
    "for i in arr:\n",
    "    rev=i[::-1]\n",
    "    res.append(rev)\n",
    "print(res)"
   ]
  },
  {
   "cell_type": "code",
   "execution_count": 19,
   "id": "useful-sunday",
   "metadata": {},
   "outputs": [
    {
     "name": "stdout",
     "output_type": "stream",
     "text": [
      "['sweet', 'sour']\n"
     ]
    }
   ],
   "source": [
    "# Uncommon Words from Two Sentences\n",
    "# Input: s1 = \"this apple is sweet\", s2 = \"this apple is sour\"\n",
    "# Output: [\"sweet\",\"sour\"]\n",
    "s1 = \"this apple is sweet\"\n",
    "s2 = \"this apple is sour\"\n",
    "s1=s1.split(\" \")\n",
    "s2=s2.split(\" \")\n",
    "res=[]\n",
    "dic={}\n",
    "for i in s1:\n",
    "    if i in  dic:\n",
    "        dic[i]+=1\n",
    "    \n",
    "    else:\n",
    "        dic[i]=1\n",
    "\n",
    "for i in s2:\n",
    "    if i in dic:\n",
    "        dic[i]+=1\n",
    "    \n",
    "    else:\n",
    "        dic[i]=1\n",
    "\n",
    "for i in dic:\n",
    "    if dic[i]==1:\n",
    "        res.append(i)\n",
    "print(res) "
   ]
  },
  {
   "cell_type": "code",
   "execution_count": 24,
   "id": "connected-antenna",
   "metadata": {},
   "outputs": [
    {
     "name": "stdout",
     "output_type": "stream",
     "text": [
      "4\n",
      "yes\n"
     ]
    }
   ],
   "source": [
    "arr=[\"pillow\"]\n",
    "word=\"pill\"\n",
    "len_word=len(word)\n",
    "print(len_word)\n",
    "for i in arr:\n",
    "    if i[0:len_word]==word:\n",
    "        print(\"yes\")\n",
    "    \n",
    "    else:\n",
    "        print(\"no\")"
   ]
  },
  {
   "cell_type": "code",
   "execution_count": 38,
   "id": "adjusted-fault",
   "metadata": {},
   "outputs": [
    {
     "name": "stdout",
     "output_type": "stream",
     "text": [
      "4\n"
     ]
    }
   ],
   "source": [
    "# Check If a Word Occurs As a Prefix of Any Word in a Sentence\n",
    "# Input: sentence = \"i love eating burger\", searchWord = \"burg\"\n",
    "# Output: 4\n",
    "# Explanation: \"burg\" is prefix of \"burger\" which is the 4th word in the sentence.\n",
    "str1=\"i love eating burger\"\n",
    "word=\"burg\"\n",
    "word_len=len(word)\n",
    "str1=str1.split(\" \")\n",
    "for i in range(0,len(str1)):\n",
    "    arr_word=str1[i]\n",
    "    if arr_word[0:word_len]==word:\n",
    "        print(i+1)\n",
    "        break\n",
    "else:\n",
    "    print(\"-1\")"
   ]
  },
  {
   "cell_type": "code",
   "execution_count": 62,
   "id": "racial-victoria",
   "metadata": {},
   "outputs": [
    {
     "name": "stdout",
     "output_type": "stream",
     "text": [
      "[4, 2, 4, 2, 3]\n"
     ]
    }
   ],
   "source": [
    "prices = [8,4,6,2,3]                                                                                                                                                                                                                                                                                                                                                                                                                                                \n",
    "res=[]\n",
    "for i in range(0,len(prices)):\n",
    "    for j in range(i+1,len(prices)):\n",
    "        if prices[i]>=prices[j]:\n",
    "            prices[i]=prices[i]-prices[j]\n",
    "            break\n",
    "print(prices)\n",
    "            \n",
    "            \n"
   ]
  },
  {
   "cell_type": "code",
   "execution_count": 51,
   "id": "transsexual-project",
   "metadata": {},
   "outputs": [
    {
     "name": "stdout",
     "output_type": "stream",
     "text": [
      "Yes\n"
     ]
    }
   ],
   "source": [
    "s=\"aaaaaabc\"\n",
    "goal=\"aaaaaacb\"\n",
    "rev=\"\"\n",
    "rev1=\"\"\n",
    "if s==goal[::-1]:\n",
    "    print(\"Yes\")\n",
    "\n",
    "else:\n",
    "    for i in range(0,len(s)):\n",
    "        if s[i]==goal[i]:\n",
    "            rev=rev+s[i]\n",
    "        else:\n",
    "            rev1=s[i]+rev1\n",
    "\n",
    "    res=rev+rev1\n",
    "\n",
    "    if len(rev1)==0:\n",
    "        print(\"No\")\n",
    "    elif res==goal:\n",
    "        print(\"Yes\")\n",
    "    else:\n",
    "        print(\"No\")"
   ]
  },
  {
   "cell_type": "code",
   "execution_count": 83,
   "id": "encouraging-samoa",
   "metadata": {},
   "outputs": [
    {
     "name": "stdout",
     "output_type": "stream",
     "text": [
      "[1, 2, 5]\n",
      "[1, 2, 5, 7]\n",
      "Yes\n"
     ]
    }
   ],
   "source": [
    "nums = [1,2,10,5,7]\n",
    "res=[]\n",
    "i=1\n",
    "count=0\n",
    "while i<len(nums):\n",
    "    if nums[i-1]<nums[i]:\n",
    "        res.append(nums[i-1])\n",
    "        i+=1\n",
    "    else:\n",
    "        i+=1\n",
    "print(res)\n",
    "if len(res)==0:\n",
    "    print(\"False\")\n",
    "        \n",
    "else:\n",
    "    if nums[len(nums)-1]>res[-1]:\n",
    "        res.append(nums[len(nums)-1])\n",
    "    print(res)\n",
    "    for i in range(1,len(res)):\n",
    "        if res[i-1]>res[i]:\n",
    "            print(\"False\")\n",
    "            break\n",
    "        print(\"Yes\")\n",
    "        break\n",
    "    \n",
    "   "
   ]
  },
  {
   "cell_type": "code",
   "execution_count": 20,
   "id": "balanced-latest",
   "metadata": {},
   "outputs": [
    {
     "name": "stdout",
     "output_type": "stream",
     "text": [
      "[2, 2, 2, 1, 4, 3, 3, 9, 6, 7, 19]\n"
     ]
    }
   ],
   "source": [
    "# Relative Sort Array\n",
    "# Input: arr1 = [2,3,1,3,2,4,6,7,9,2,19], arr2 = [2,1,4,3,9,6]\n",
    "# Output: [2,2,2,1,4,3,3,9,6,7,19]\n",
    "\n",
    "arr1 = [2,3,1,3,2,4,6,7,9,2,19]\n",
    "arr2 = [2,1,4,3,9,6] \n",
    "res=[]\n",
    "res1=[]\n",
    "for i in range(0,len(arr2)):\n",
    "    for j in range(0,len(arr1)):\n",
    "        if arr2[i]==arr1[j]:\n",
    "            res.append(arr1[j])\n",
    "\n",
    "for i in arr1:\n",
    "    if i not in res:\n",
    "        res1.append(i)\n",
    "\n",
    "res1.sort()\n",
    "print(res+res1)\n"
   ]
  },
  {
   "cell_type": "code",
   "execution_count": 40,
   "id": "damaged-worry",
   "metadata": {},
   "outputs": [
    {
     "name": "stdout",
     "output_type": "stream",
     "text": [
      "{1: 2, 5: 1, 4: 2, 9: 1}\n",
      "4\n"
     ]
    }
   ],
   "source": [
    "# Input:[1,5,1,4,9,4]\n",
    "# o/p:4\n",
    "# Both 1 and 4 occur max number of time but 4 is greater than 1 so output is 4\n",
    "\n",
    "# Input:[1,10,0,5,2,3,9]\n",
    "# o/p:10\n",
    "# All the numbers occur only once so max value is 10 so output is 10 \n",
    "\n",
    "arr=[1,5,1,4,9,4]\n",
    "dic={}\n",
    "res=[]\n",
    "for i in arr:\n",
    "    if i in dic:\n",
    "        dic[i]+=1\n",
    "    else:\n",
    "        dic[i]=1\n",
    "print(dic)\n",
    "for i in dic:\n",
    "    if dic[i]>1:\n",
    "        res.append(i)\n",
    "\n",
    "if len(res)==0:\n",
    "    print(max(arr))\n",
    "else:\n",
    "    print(max(res))"
   ]
  },
  {
   "cell_type": "code",
   "execution_count": null,
   "id": "suited-parliament",
   "metadata": {},
   "outputs": [],
   "source": []
  },
  {
   "cell_type": "code",
   "execution_count": null,
   "id": "designed-musician",
   "metadata": {},
   "outputs": [],
   "source": []
  }
 ],
 "metadata": {
  "kernelspec": {
   "display_name": "Python 3",
   "language": "python",
   "name": "python3"
  },
  "language_info": {
   "codemirror_mode": {
    "name": "ipython",
    "version": 3
   },
   "file_extension": ".py",
   "mimetype": "text/x-python",
   "name": "python",
   "nbconvert_exporter": "python",
   "pygments_lexer": "ipython3",
   "version": "3.9.2"
  }
 },
 "nbformat": 4,
 "nbformat_minor": 5
}
