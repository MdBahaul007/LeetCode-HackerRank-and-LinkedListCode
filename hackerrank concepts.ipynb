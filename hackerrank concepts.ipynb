{
 "cells": [
  {
   "cell_type": "code",
   "execution_count": 12,
   "id": "speaking-shanghai",
   "metadata": {},
   "outputs": [
    {
     "name": "stdout",
     "output_type": "stream",
     "text": [
      "112\n",
      "3\n"
     ]
    }
   ],
   "source": [
    "a=1012\n",
    "a1=str(a)\n",
    "count=0\n",
    "str1=\"\"\n",
    "for i in a1:\n",
    "    if int(i)!=0:\n",
    "        str1+=str(i)\n",
    "print(str1)\n",
    "for i in str1:\n",
    "    if a%int(i)==0:\n",
    "        count+=1\n",
    "print(count)\n",
    "        "
   ]
  },
  {
   "cell_type": "code",
   "execution_count": 10,
   "id": "complicated-carrier",
   "metadata": {},
   "outputs": [
    {
     "name": "stdout",
     "output_type": "stream",
     "text": [
      "92\n"
     ]
    }
   ],
   "source": [
    "c = [0, 0, 1, 0, 0, 1, 1, 0]\n",
    "n=len(c)\n",
    "k=2\n",
    "e=100\n",
    "i=0\n",
    "while True:\n",
    "    if c[i]==1:\n",
    "        e=e-3\n",
    "    else:\n",
    "        e=e-1\n",
    "    i=(i+k)%n\n",
    "    if (i%n)==0:\n",
    "        break\n",
    "print(e)    \n"
   ]
  },
  {
   "cell_type": "code",
   "execution_count": 14,
   "id": "divine-torture",
   "metadata": {},
   "outputs": [
    {
     "name": "stdout",
     "output_type": "stream",
     "text": [
      "15\n"
     ]
    }
   ],
   "source": [
    "arr=[[1,2,3],\n",
    "    [4,5,.6],\n",
    "    [7,8,9]]\n",
    "i=0\n",
    "j=0\n",
    "sum1=0\n",
    "while i<len(arr):\n",
    "    sum1+=arr[i][j]\n",
    "    i+=1\n",
    "    j+=1\n",
    "print(sum1)\n"
   ]
  },
  {
   "cell_type": "code",
   "execution_count": 19,
   "id": "opposed-march",
   "metadata": {},
   "outputs": [
    {
     "name": "stdout",
     "output_type": "stream",
     "text": [
      "9266\n"
     ]
    }
   ],
   "source": [
    "arr=[7,69,2,221,8974]\n",
    "sum2=0\n",
    "for j in range(1,len(arr)):\n",
    "#     print(arr[j])\n",
    "    sum2+=arr[j]\n",
    "print(sum2)"
   ]
  },
  {
   "cell_type": "code",
   "execution_count": 41,
   "id": "worthy-extraction",
   "metadata": {},
   "outputs": [
    {
     "name": "stdout",
     "output_type": "stream",
     "text": [
      "75\n"
     ]
    }
   ],
   "source": [
    "\n",
    "base=5\n",
    "x=73\n",
    "nearest_multiple = round((x + 4)/5) * 5;\n",
    "print(nearest_multiple)"
   ]
  },
  {
   "cell_type": "code",
   "execution_count": 31,
   "id": "streaming-match",
   "metadata": {},
   "outputs": [
    {
     "name": "stdout",
     "output_type": "stream",
     "text": [
      "73.0\n"
     ]
    }
   ],
   "source": [
    "prec=2\n",
    "base=.05\n",
    "x=73\n",
    "out=round(base * round(float(x)/base),prec)\n",
    "print(out)"
   ]
  },
  {
   "cell_type": "code",
   "execution_count": 9,
   "id": "proof-lodging",
   "metadata": {},
   "outputs": [
    {
     "name": "stdout",
     "output_type": "stream",
     "text": [
      "1 2\n",
      "2 3\n"
     ]
    }
   ],
   "source": [
    "arr=[1,2,3,4,5]\n",
    "m=2\n",
    "for i in range(0,len(arr)-1):\n",
    "    for j in range(i+1,len(arr)):\n",
    "        if m>0:\n",
    "            print(arr[i],arr[j])\n",
    "            m-=1\n",
    "            break\n",
    "            \n",
    "            \n",
    "            "
   ]
  },
  {
   "cell_type": "code",
   "execution_count": 18,
   "id": "cheap-radiation",
   "metadata": {},
   "outputs": [
    {
     "name": "stdout",
     "output_type": "stream",
     "text": [
      "[0, 1, 0, 1, 3, 1]\n",
      "3\n"
     ]
    }
   ],
   "source": [
    "arr=[1,4,4,4,5,3]\n",
    "n=len(arr)\n",
    "bird_arr=[0]*n\n",
    "for i in range(0,len(arr)):\n",
    "    bird_arr[(arr[i])]+=1\n",
    "print(bird_arr)\n",
    "max1=bird_arr[0]\n",
    "for i in range(1,len(bird_arr)):\n",
    "    if bird_arr[i]>max1:\n",
    "        max1=bird_arr[i]\n",
    "print(max1)"
   ]
  },
  {
   "cell_type": "code",
   "execution_count": 2,
   "id": "impaired-oregon",
   "metadata": {},
   "outputs": [
    {
     "name": "stdout",
     "output_type": "stream",
     "text": [
      "321\n"
     ]
    }
   ],
   "source": [
    "def rev(x):\n",
    "    rev=0\n",
    "    while x:\n",
    "        rem=x%10\n",
    "        rev=rev*10+rem\n",
    "        x=x//10\n",
    "    return rev\n",
    "print(rev(123))\n",
    "\n"
   ]
  },
  {
   "cell_type": "code",
   "execution_count": 9,
   "id": "duplicate-yeast",
   "metadata": {},
   "outputs": [
    {
     "name": "stdout",
     "output_type": "stream",
     "text": [
      "[3, 4, 5]\n"
     ]
    }
   ],
   "source": [
    "arr=[3,4,5]\n",
    "k=3\n",
    "rotate=k\n",
    "while rotate!=0:\n",
    "    arr=arr[k:]+arr[0:k]\n",
    "    rotate-=1\n",
    "print(arr)"
   ]
  },
  {
   "cell_type": "code",
   "execution_count": 8,
   "id": "shaped-practice",
   "metadata": {},
   "outputs": [
    {
     "name": "stdout",
     "output_type": "stream",
     "text": [
      "[3]\n",
      "[3, 2]\n",
      "[3, 2, 1]\n"
     ]
    }
   ],
   "source": [
    "arr1=[1,2,3]\n",
    "arr2=[4,5,6]\n",
    "diff=0\n",
    "result=[]\n",
    "for i in range(0,len(arr1)):\n",
    "    for j in range(0,len(arr2)):\n",
    "        diff=arr2[j]-arr1[i]\n",
    "        result.append(diff)\n",
    "        diff=0\n",
    "        print(result)\n",
    "        break\n",
    "# print(result)\n"
   ]
  },
  {
   "cell_type": "code",
   "execution_count": 10,
   "id": "secure-rebound",
   "metadata": {},
   "outputs": [
    {
     "name": "stdout",
     "output_type": "stream",
     "text": [
      "[3, 3, 3]\n"
     ]
    }
   ],
   "source": [
    "arr1=[1,2,3]\n",
    "arr2=[4,5,6]\n",
    "diff=0\n",
    "result=[]\n",
    "i=0\n",
    "j=0\n",
    "while i<len(arr1) and j<len(arr2):\n",
    "    diff=arr2[j]-arr1[i]\n",
    "    result.append(diff)\n",
    "    diff=0\n",
    "    i+=1\n",
    "    j+=1\n",
    "print(result)"
   ]
  },
  {
   "cell_type": "code",
   "execution_count": 3,
   "id": "viral-bearing",
   "metadata": {},
   "outputs": [
    {
     "name": "stdout",
     "output_type": "stream",
     "text": [
      "[3, 2, 0, 0, 0]\n"
     ]
    }
   ],
   "source": [
    "arr2=[3,1,4,6,5]\n",
    "arr1=[9,8,3,15,1]\n",
    "res=[]\n",
    "min_value=9223372036854775807\n",
    "for i in range(0,len(arr1)):\n",
    "    for j in range(0,len(arr2)):\n",
    "        diff=abs(arr1[i]-arr2[j])\n",
    "        min_value=min(diff,min_value)\n",
    "    res.append(min_value)\n",
    "print(res)\n",
    "    "
   ]
  },
  {
   "cell_type": "code",
   "execution_count": null,
   "id": "overall-boundary",
   "metadata": {},
   "outputs": [],
   "source": [
    "()"
   ]
  }
 ],
 "metadata": {
  "kernelspec": {
   "display_name": "Python 3",
   "language": "python",
   "name": "python3"
  },
  "language_info": {
   "codemirror_mode": {
    "name": "ipython",
    "version": 3
   },
   "file_extension": ".py",
   "mimetype": "text/x-python",
   "name": "python",
   "nbconvert_exporter": "python",
   "pygments_lexer": "ipython3",
   "version": "3.9.2"
  }
 },
 "nbformat": 4,
 "nbformat_minor": 5
}
